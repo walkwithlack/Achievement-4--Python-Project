{
 "cells": [
  {
   "cell_type": "markdown",
   "id": "dc10c2a2-db75-414b-a6f4-57e0d3f005f8",
   "metadata": {},
   "source": [
    "# Importing libraries"
   ]
  },
  {
   "cell_type": "code",
   "execution_count": 6,
   "id": "c58cf037-6506-441c-9155-5497908d9b16",
   "metadata": {},
   "outputs": [],
   "source": [
    "import pandas as pd\n",
    "import numpy as np\n",
    "import os"
   ]
  },
  {
   "cell_type": "markdown",
   "id": "4abf9678-f907-4aba-a0bf-6fb542a64ddb",
   "metadata": {},
   "source": [
    "# Python data types"
   ]
  },
  {
   "cell_type": "code",
   "execution_count": 15,
   "id": "645f71ac-ef38-4284-b539-41d9179540f2",
   "metadata": {},
   "outputs": [
    {
     "data": {
      "text/plain": [
       "100"
      ]
     },
     "execution_count": 15,
     "metadata": {},
     "output_type": "execute_result"
    }
   ],
   "source": [
    "x = 53\n",
    "y = 47\n",
    "x + y"
   ]
  },
  {
   "cell_type": "code",
   "execution_count": 16,
   "id": "0c990784-4e24-4d9c-ae79-46ace4e1d380",
   "metadata": {},
   "outputs": [
    {
     "data": {
      "text/plain": [
       "100"
      ]
     },
     "execution_count": 16,
     "metadata": {},
     "output_type": "execute_result"
    }
   ],
   "source": [
    "x = 150\n",
    "y = 50\n",
    "x - y"
   ]
  },
  {
   "cell_type": "code",
   "execution_count": 17,
   "id": "e8f75a3b-d3a4-4b35-832b-24c0033efa05",
   "metadata": {},
   "outputs": [
    {
     "data": {
      "text/plain": [
       "100.0"
      ]
     },
     "execution_count": 17,
     "metadata": {},
     "output_type": "execute_result"
    }
   ],
   "source": [
    "x = 100.1\n",
    "y = 0.1\n",
    "x - y"
   ]
  },
  {
   "cell_type": "code",
   "execution_count": 18,
   "id": "00d02715-21da-4330-a03b-64231a9abefc",
   "metadata": {},
   "outputs": [
    {
     "data": {
      "text/plain": [
       "5.0"
      ]
     },
     "execution_count": 18,
     "metadata": {},
     "output_type": "execute_result"
    }
   ],
   "source": [
    "x  =5.5\n",
    "y = 1.1\n",
    "x / y"
   ]
  },
  {
   "cell_type": "code",
   "execution_count": 23,
   "id": "efbe2fb3-433b-4477-b7c5-6143269c0ac9",
   "metadata": {},
   "outputs": [
    {
     "data": {
      "text/plain": [
       "'feedback'"
      ]
     },
     "execution_count": 23,
     "metadata": {},
     "output_type": "execute_result"
    }
   ],
   "source": [
    "x ='feed'\n",
    "y = 'back'\n",
    "x + y"
   ]
  },
  {
   "cell_type": "code",
   "execution_count": 21,
   "id": "b89c40b8-bbfe-40ea-b59e-406f310019d1",
   "metadata": {},
   "outputs": [
    {
     "data": {
      "text/plain": [
       "'Thank you for your guidance, Halima <3!'"
      ]
     },
     "execution_count": 21,
     "metadata": {},
     "output_type": "execute_result"
    }
   ],
   "source": [
    "x = 'Thank you for your guidance'\n",
    "y = ', Halima <3!'\n",
    "x + y"
   ]
  },
  {
   "cell_type": "code",
   "execution_count": 25,
   "id": "a892d1cb-deda-4d5c-bac5-ed388a8d80ac",
   "metadata": {},
   "outputs": [
    {
     "data": {
      "text/plain": [
       "'It has been a long day. But with rest, we will be ready to reflect and work some more.'"
      ]
     },
     "execution_count": 25,
     "metadata": {},
     "output_type": "execute_result"
    }
   ],
   "source": [
    "x = 'It has been a long day.'\n",
    "y = ' But with rest, we will be ready to reflect and work some more.'\n",
    "x + y"
   ]
  },
  {
   "cell_type": "code",
   "execution_count": 28,
   "id": "02465a12-6ba8-4c49-ba64-f5e950ebb669",
   "metadata": {},
   "outputs": [
    {
     "data": {
      "text/plain": [
       "' Ecology without Class Struggle is Just Gardening! Ecology without Class Struggle is Just Gardening! Ecology without Class Struggle is Just Gardening! Ecology without Class Struggle is Just Gardening! Ecology without Class Struggle is Just Gardening! Ecology without Class Struggle is Just Gardening! Ecology without Class Struggle is Just Gardening! Ecology without Class Struggle is Just Gardening! Ecology without Class Struggle is Just Gardening! Ecology without Class Struggle is Just Gardening! Ecology without Class Struggle is Just Gardening! Ecology without Class Struggle is Just Gardening! Ecology without Class Struggle is Just Gardening! Ecology without Class Struggle is Just Gardening! Ecology without Class Struggle is Just Gardening! Ecology without Class Struggle is Just Gardening! Ecology without Class Struggle is Just Gardening! Ecology without Class Struggle is Just Gardening! Ecology without Class Struggle is Just Gardening! Ecology without Class Struggle is Just Gardening! Ecology without Class Struggle is Just Gardening! Ecology without Class Struggle is Just Gardening! Ecology without Class Struggle is Just Gardening! Ecology without Class Struggle is Just Gardening! Ecology without Class Struggle is Just Gardening! Ecology without Class Struggle is Just Gardening! Ecology without Class Struggle is Just Gardening! Ecology without Class Struggle is Just Gardening! Ecology without Class Struggle is Just Gardening! Ecology without Class Struggle is Just Gardening! Ecology without Class Struggle is Just Gardening! Ecology without Class Struggle is Just Gardening! Ecology without Class Struggle is Just Gardening! Ecology without Class Struggle is Just Gardening! Ecology without Class Struggle is Just Gardening! Ecology without Class Struggle is Just Gardening! Ecology without Class Struggle is Just Gardening! Ecology without Class Struggle is Just Gardening! Ecology without Class Struggle is Just Gardening! Ecology without Class Struggle is Just Gardening! Ecology without Class Struggle is Just Gardening! Ecology without Class Struggle is Just Gardening! Ecology without Class Struggle is Just Gardening! Ecology without Class Struggle is Just Gardening! Ecology without Class Struggle is Just Gardening! Ecology without Class Struggle is Just Gardening! Ecology without Class Struggle is Just Gardening! Ecology without Class Struggle is Just Gardening! Ecology without Class Struggle is Just Gardening! Ecology without Class Struggle is Just Gardening! Ecology without Class Struggle is Just Gardening! Ecology without Class Struggle is Just Gardening! Ecology without Class Struggle is Just Gardening! Ecology without Class Struggle is Just Gardening! Ecology without Class Struggle is Just Gardening! Ecology without Class Struggle is Just Gardening! Ecology without Class Struggle is Just Gardening! Ecology without Class Struggle is Just Gardening! Ecology without Class Struggle is Just Gardening! Ecology without Class Struggle is Just Gardening! Ecology without Class Struggle is Just Gardening! Ecology without Class Struggle is Just Gardening! Ecology without Class Struggle is Just Gardening! Ecology without Class Struggle is Just Gardening! Ecology without Class Struggle is Just Gardening! Ecology without Class Struggle is Just Gardening! Ecology without Class Struggle is Just Gardening! Ecology without Class Struggle is Just Gardening! Ecology without Class Struggle is Just Gardening! Ecology without Class Struggle is Just Gardening! Ecology without Class Struggle is Just Gardening! Ecology without Class Struggle is Just Gardening! Ecology without Class Struggle is Just Gardening! Ecology without Class Struggle is Just Gardening! Ecology without Class Struggle is Just Gardening! Ecology without Class Struggle is Just Gardening! Ecology without Class Struggle is Just Gardening! Ecology without Class Struggle is Just Gardening! Ecology without Class Struggle is Just Gardening! Ecology without Class Struggle is Just Gardening! Ecology without Class Struggle is Just Gardening! Ecology without Class Struggle is Just Gardening! Ecology without Class Struggle is Just Gardening! Ecology without Class Struggle is Just Gardening! Ecology without Class Struggle is Just Gardening! Ecology without Class Struggle is Just Gardening! Ecology without Class Struggle is Just Gardening! Ecology without Class Struggle is Just Gardening! Ecology without Class Struggle is Just Gardening! Ecology without Class Struggle is Just Gardening! Ecology without Class Struggle is Just Gardening! Ecology without Class Struggle is Just Gardening! Ecology without Class Struggle is Just Gardening! Ecology without Class Struggle is Just Gardening! Ecology without Class Struggle is Just Gardening! Ecology without Class Struggle is Just Gardening! Ecology without Class Struggle is Just Gardening! Ecology without Class Struggle is Just Gardening! Ecology without Class Struggle is Just Gardening! Ecology without Class Struggle is Just Gardening!'"
      ]
     },
     "execution_count": 28,
     "metadata": {},
     "output_type": "execute_result"
    }
   ],
   "source": [
    "x = ' Ecology without Class Struggle is Just Gardening!'\n",
    "x * 100"
   ]
  },
  {
   "cell_type": "code",
   "execution_count": null,
   "id": "7503e426-bd57-40bc-9005-640c633497da",
   "metadata": {},
   "outputs": [],
   "source": []
  }
 ],
 "metadata": {
  "kernelspec": {
   "display_name": "Python [conda env:base] *",
   "language": "python",
   "name": "conda-base-py"
  },
  "language_info": {
   "codemirror_mode": {
    "name": "ipython",
    "version": 3
   },
   "file_extension": ".py",
   "mimetype": "text/x-python",
   "name": "python",
   "nbconvert_exporter": "python",
   "pygments_lexer": "ipython3",
   "version": "3.12.7"
  }
 },
 "nbformat": 4,
 "nbformat_minor": 5
}
