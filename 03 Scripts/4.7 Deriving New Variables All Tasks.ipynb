{
 "cells": [
  {
   "cell_type": "markdown",
   "id": "dc3986be-d122-4518-93a0-3354fdf5ab54",
   "metadata": {},
   "source": [
    "# This script contains the below chapters:\n",
    "1. Importing libraries and data\n",
    "2. Creating price_label column\n",
    "3. Creating busiest_day column\n",
    "4. Creating busiest_days column\n",
    "5. Creating busiest_period_of_day column\n",
    "6. Export of new file and final checks"
   ]
  },
  {
   "cell_type": "markdown",
   "id": "37097f41-e060-47fe-8264-da03500afba1",
   "metadata": {},
   "source": [
    "# 1. Importing libraries and data"
   ]
  },
  {
   "cell_type": "code",
   "execution_count": 1,
   "id": "ca0df235-d331-452b-bd22-812654be17f7",
   "metadata": {},
   "outputs": [],
   "source": [
    "# importing libraries\n",
    "import pandas as pd\n",
    "import numpy as np\n",
    "import os"
   ]
  },
  {
   "cell_type": "code",
   "execution_count": 2,
   "id": "7af65983-2ceb-439f-9192-b388ea397ab2",
   "metadata": {},
   "outputs": [],
   "source": [
    "# assigning path for easier import of data\n",
    "path = r'C:\\Users\\magia\\06-2025 Instacart Basket Analysis'"
   ]
  },
  {
   "cell_type": "code",
   "execution_count": 3,
   "id": "1b48aeae-7ff9-497f-bc1c-59540cefe167",
   "metadata": {},
   "outputs": [],
   "source": [
    "# importing new data set using path variable\n",
    "df_ords_prods_merge = pd.read_pickle(os.path.join(path, '02 Data', 'Prepared Data', 'ords_prods_merge.pkl'))"
   ]
  },
  {
   "cell_type": "code",
   "execution_count": 4,
   "id": "aa4ff736-e3a3-470c-8757-f4bd18eed56c",
   "metadata": {},
   "outputs": [
    {
     "name": "stdout",
     "output_type": "stream",
     "text": [
      "<class 'pandas.core.frame.DataFrame'>\n",
      "RangeIndex: 32404859 entries, 0 to 32404858\n",
      "Data columns (total 16 columns):\n",
      " #   Column               Dtype   \n",
      "---  ------               -----   \n",
      " 0   order_id             int32   \n",
      " 1   user_id              int32   \n",
      " 2   order_number         int8    \n",
      " 3   orders_day_of_week   int8    \n",
      " 4   order_hour_of_day    int8    \n",
      " 5   days_between_orders  float32 \n",
      " 6   new_customer         bool    \n",
      " 7   product_id           int32   \n",
      " 8   add_to_cart_order    int32   \n",
      " 9   reordered            int8    \n",
      " 10  product_name         object  \n",
      " 11  aisle_id             int8    \n",
      " 12  department_id        int8    \n",
      " 13  prices               float64 \n",
      " 14  _merge               category\n",
      " 15  price_range          object  \n",
      "dtypes: bool(1), category(1), float32(1), float64(1), int32(4), int8(6), object(2)\n",
      "memory usage: 1.6+ GB\n"
     ]
    }
   ],
   "source": [
    "# checking data types and dataframe size (after changes made previously)\n",
    "df_ords_prods_merge.info()"
   ]
  },
  {
   "cell_type": "markdown",
   "id": "a6c59ec2-fff1-49a2-8ac6-498781138713",
   "metadata": {},
   "source": [
    "# 2. Creating price_label column"
   ]
  },
  {
   "cell_type": "code",
   "execution_count": 5,
   "id": "e014b65d-61da-4b4b-8a1d-c6601c02d1e8",
   "metadata": {},
   "outputs": [],
   "source": [
    "# creating subset with first 1 million rows in the dataframe before creating new variables\n",
    "df = df_ords_prods_merge[:1000000]"
   ]
  },
  {
   "cell_type": "code",
   "execution_count": 6,
   "id": "a2cc0a0a-385d-4463-b00b-1edbc109e028",
   "metadata": {},
   "outputs": [],
   "source": [
    "# creating price_label function\n",
    "def price_label(row):\n",
    "\n",
    "  if row['prices'] <= 5:\n",
    "    return 'Low-range product'\n",
    "  elif (row['prices'] > 5) and (row['prices'] <= 15):\n",
    "    return 'Mid-range product'\n",
    "  elif row['prices'] > 15:\n",
    "    return 'High range'\n",
    "  else: return np.nan"
   ]
  },
  {
   "cell_type": "code",
   "execution_count": 7,
   "id": "4f1d8efc-c7cc-4b20-9bd5-d2dbf055a2e8",
   "metadata": {},
   "outputs": [
    {
     "data": {
      "text/plain": [
       "price_range\n",
       "Mid-range product    673198\n",
       "Low-range product    314392\n",
       "High range            12410\n",
       "Name: count, dtype: int64"
      ]
     },
     "execution_count": 7,
     "metadata": {},
     "output_type": "execute_result"
    }
   ],
   "source": [
    "df['price_range'].value_counts(dropna = False)"
   ]
  },
  {
   "cell_type": "code",
   "execution_count": 8,
   "id": "58b73c4b-b1ca-451f-b822-4a69d0985fb6",
   "metadata": {},
   "outputs": [
    {
     "data": {
      "text/plain": [
       "14900.0"
      ]
     },
     "execution_count": 8,
     "metadata": {},
     "output_type": "execute_result"
    }
   ],
   "source": [
    "# checking highest prices within subset\n",
    "df['prices'].max()"
   ]
  },
  {
   "cell_type": "code",
   "execution_count": 9,
   "id": "b746d884-297d-455e-b81f-945c307fd82e",
   "metadata": {},
   "outputs": [
    {
     "data": {
      "text/html": [
       "<div>\n",
       "<style scoped>\n",
       "    .dataframe tbody tr th:only-of-type {\n",
       "        vertical-align: middle;\n",
       "    }\n",
       "\n",
       "    .dataframe tbody tr th {\n",
       "        vertical-align: top;\n",
       "    }\n",
       "\n",
       "    .dataframe thead th {\n",
       "        text-align: right;\n",
       "    }\n",
       "</style>\n",
       "<table border=\"1\" class=\"dataframe\">\n",
       "  <thead>\n",
       "    <tr style=\"text-align: right;\">\n",
       "      <th></th>\n",
       "      <th>product_name</th>\n",
       "      <th>prices</th>\n",
       "    </tr>\n",
       "  </thead>\n",
       "  <tbody>\n",
       "    <tr>\n",
       "      <th>1576</th>\n",
       "      <td>Lowfat 2% Milkfat Cottage Cheese</td>\n",
       "      <td>14900.0</td>\n",
       "    </tr>\n",
       "  </tbody>\n",
       "</table>\n",
       "</div>"
      ],
      "text/plain": [
       "                          product_name   prices\n",
       "1576  Lowfat 2% Milkfat Cottage Cheese  14900.0"
      ]
     },
     "execution_count": 9,
     "metadata": {},
     "output_type": "execute_result"
    }
   ],
   "source": [
    "# checking which product has suspicious price of 14900.0\n",
    "df_ords_prods_merge[df_ords_prods_merge['prices'] >= 1000][['product_name', 'prices']].drop_duplicates()"
   ]
  },
  {
   "cell_type": "code",
   "execution_count": 10,
   "id": "7a683d4b-6c30-46c7-be0b-1e0964113fab",
   "metadata": {},
   "outputs": [],
   "source": [
    "# fixing price\n",
    "df_ords_prods_merge.loc[\n",
    "    (df_ords_prods_merge['prices'] > 14899.0) & \n",
    "    (df_ords_prods_merge['prices'] < 14901.0), \n",
    "    'prices'\n",
    "] = 1.1"
   ]
  },
  {
   "cell_type": "code",
   "execution_count": 11,
   "id": "eef68711-ac56-4356-b8ce-824255105bde",
   "metadata": {},
   "outputs": [
    {
     "data": {
      "text/plain": [
       "0"
      ]
     },
     "execution_count": 11,
     "metadata": {},
     "output_type": "execute_result"
    }
   ],
   "source": [
    "# checking if fix worked\n",
    "(df_ords_prods_merge['prices'] > 14899.0).sum()"
   ]
  },
  {
   "cell_type": "code",
   "execution_count": 12,
   "id": "2b5ffd19-9740-4e7b-91d6-834188161b67",
   "metadata": {},
   "outputs": [],
   "source": [
    "# updating data set\n",
    "df_ords_prods_merge['price_range'] = df_ords_prods_merge.apply(price_label, axis=1)"
   ]
  },
  {
   "cell_type": "code",
   "execution_count": 13,
   "id": "e4026c41-d982-4990-8781-6cf0b019c81c",
   "metadata": {},
   "outputs": [],
   "source": [
    "# save cleaned merged data set\n",
    "df_ords_prods_merge.to_pickle(os.path.join(path, '02 Data', 'Prepared Data', 'ords_prods_cleaned.pkl'))"
   ]
  },
  {
   "cell_type": "code",
   "execution_count": 14,
   "id": "4b177a8c-4558-4ec5-9c85-c8adcd1cce36",
   "metadata": {},
   "outputs": [
    {
     "data": {
      "text/plain": [
       "price_range\n",
       "Mid-range product    21861558\n",
       "Low-range product    10130750\n",
       "High range             412551\n",
       "Name: count, dtype: int64"
      ]
     },
     "execution_count": 14,
     "metadata": {},
     "output_type": "execute_result"
    }
   ],
   "source": [
    "# checking that price_range returns only low-and mid-range products\n",
    "df_ords_prods_merge['price_range'].value_counts(dropna=False)"
   ]
  },
  {
   "cell_type": "code",
   "execution_count": 15,
   "id": "c94846fd-6c93-4a05-8e10-30c5b16beffe",
   "metadata": {},
   "outputs": [
    {
     "data": {
      "text/plain": [
       "prices\n",
       "25.000000    13772\n",
       "24.900000     5781\n",
       "24.799999      410\n",
       "24.700001     7283\n",
       "24.600000     1962\n",
       "24.500000     2148\n",
       "24.400000      499\n",
       "24.299999     2889\n",
       "24.200001    15891\n",
       "24.100000      978\n",
       "24.000000     4327\n",
       "23.900000     2074\n",
       "23.799999    12585\n",
       "23.700001     1346\n",
       "23.600000     8458\n",
       "23.500000     1924\n",
       "23.400000      368\n",
       "23.299999     4803\n",
       "23.200001    14866\n",
       "23.100000     9135\n",
       "Name: count, dtype: int64"
      ]
     },
     "execution_count": 15,
     "metadata": {},
     "output_type": "execute_result"
    }
   ],
   "source": [
    "# checking prices of suspicious high range products\n",
    "df_ords_prods_merge[df_ords_prods_merge['price_range'] == 'High range']['prices'].value_counts().sort_index(ascending=False).head(20)"
   ]
  },
  {
   "cell_type": "code",
   "execution_count": 16,
   "id": "71259bb7-ad13-4ff4-9ca8-06b88ac5633f",
   "metadata": {},
   "outputs": [
    {
     "name": "stdout",
     "output_type": "stream",
     "text": [
      "price_range\n",
      "Mid-range product    21861558\n",
      "Low-range product    10130750\n",
      "High range             412551\n",
      "Name: count, dtype: int64\n"
     ]
    }
   ],
   "source": [
    "# Round 'prices' column (float32) to 2 decimal places to fix floating-point precision errors\n",
    "df_ords_prods_merge['prices'] = df_ords_prods_merge['prices'].round(2)\n",
    "\n",
    "# Reapply the price labeling function to update 'price_range' categories based on cleaned prices\n",
    "df_ords_prods_merge['price_range'] = df_ords_prods_merge.apply(price_label, axis=1)\n",
    "\n",
    "# Check the distribution of price ranges to verify changes\n",
    "print(df_ords_prods_merge['price_range'].value_counts(dropna=False))"
   ]
  },
  {
   "cell_type": "code",
   "execution_count": 17,
   "id": "a58005ab-afc2-4c60-8568-1942b03547f7",
   "metadata": {},
   "outputs": [
    {
     "data": {
      "text/plain": [
       "array([23.2, 22.3, 21.1, 24.2, 23. , 23.9, 23.6, 23.1, 20.7, 20.6, 22.2,\n",
       "       24.1, 20.4, 24.7, 21.6, 22.1, 24. , 23.7, 23.3, 25. , 21.3, 21.7,\n",
       "       24.5, 23.8, 22.4, 21.8, 24.4, 22.9, 22.6, 24.6, 24.3, 20.1, 21.9,\n",
       "       23.4, 20.9, 20.5, 22. , 22.8, 20.3, 24.9, 23.5, 24.8, 20.8, 22.5,\n",
       "       21.5, 21.4, 20.2, 22.7, 21. ])"
      ]
     },
     "execution_count": 17,
     "metadata": {},
     "output_type": "execute_result"
    }
   ],
   "source": [
    "# Check unique suspicious high prices\n",
    "df_ords_prods_merge.loc[df_ords_prods_merge['prices'] > 20, 'prices'].unique()"
   ]
  },
  {
   "cell_type": "code",
   "execution_count": 18,
   "id": "6ddd275a-996c-40fa-851e-553fa865fdf5",
   "metadata": {},
   "outputs": [
    {
     "data": {
      "text/html": [
       "<div>\n",
       "<style scoped>\n",
       "    .dataframe tbody tr th:only-of-type {\n",
       "        vertical-align: middle;\n",
       "    }\n",
       "\n",
       "    .dataframe tbody tr th {\n",
       "        vertical-align: top;\n",
       "    }\n",
       "\n",
       "    .dataframe thead th {\n",
       "        text-align: right;\n",
       "    }\n",
       "</style>\n",
       "<table border=\"1\" class=\"dataframe\">\n",
       "  <thead>\n",
       "    <tr style=\"text-align: right;\">\n",
       "      <th></th>\n",
       "      <th>product_name</th>\n",
       "      <th>prices</th>\n",
       "    </tr>\n",
       "  </thead>\n",
       "  <tbody>\n",
       "  </tbody>\n",
       "</table>\n",
       "</div>"
      ],
      "text/plain": [
       "Empty DataFrame\n",
       "Columns: [product_name, prices]\n",
       "Index: []"
      ]
     },
     "execution_count": 18,
     "metadata": {},
     "output_type": "execute_result"
    }
   ],
   "source": [
    "# Check if any prices greater than 30 remain (just to be safe)\n",
    "df_ords_prods_merge.loc[df_ords_prods_merge['prices'] > 30, ['product_name', 'prices']]"
   ]
  },
  {
   "cell_type": "code",
   "execution_count": 19,
   "id": "8ed73c7e-d0d8-4bf3-b523-7cc3b0e3286c",
   "metadata": {},
   "outputs": [
    {
     "name": "stdout",
     "output_type": "stream",
     "text": [
      "count    1000000.000000\n",
      "mean           7.781304\n",
      "std            4.233667\n",
      "min            1.000000\n",
      "25%            4.200000\n",
      "50%            7.300000\n",
      "75%           11.300000\n",
      "max           25.000000\n",
      "Name: prices, dtype: float64\n",
      "price_range\n",
      "Mid-range product    673198\n",
      "Low-range product    314392\n",
      "High range            12410\n",
      "Name: count, dtype: int64\n"
     ]
    }
   ],
   "source": [
    "# Get summary stats of prices in  subset\n",
    "print(df['prices'].describe())\n",
    "\n",
    "# Check distribution of price ranges in subset\n",
    "print(df['price_range'].value_counts(dropna=False))"
   ]
  },
  {
   "cell_type": "markdown",
   "id": "b0a1f497-8f0e-47de-8039-3b8e0304f245",
   "metadata": {},
   "source": [
    "**Recap**: We have in our subset **over 12.000 products** that are in the high-range, but, after fixing extreme/errouneous high prices of 99000 and 149000 we have **realistic prices of up to 25 USD**."
   ]
  },
  {
   "cell_type": "markdown",
   "id": "28cc3f20-9aba-44e3-a6ad-44df840a6183",
   "metadata": {},
   "source": [
    "# 3. Creating busiest_day column"
   ]
  },
  {
   "cell_type": "code",
   "execution_count": 20,
   "id": "e218420f-5144-4103-8614-60dc3caa6fa8",
   "metadata": {},
   "outputs": [],
   "source": [
    "# Create 'busiest_day' based on orders_day_of_week\n",
    "busiest_day_result = []\n",
    "\n",
    "for value in df_ords_prods_merge['orders_day_of_week']:\n",
    "    if value == 0:\n",
    "        busiest_day_result.append(\"Busiest day\")\n",
    "    elif value == 4:\n",
    "        busiest_day_result.append(\"Least busy\")\n",
    "    else:\n",
    "        busiest_day_result.append(\"Regularly busy\")\n",
    "\n",
    "df_ords_prods_merge['busiest_day'] = busiest_day_result"
   ]
  },
  {
   "cell_type": "code",
   "execution_count": 21,
   "id": "44df3f07-9d4e-41ed-a08a-2db260df8083",
   "metadata": {},
   "outputs": [
    {
     "data": {
      "text/plain": [
       "busiest_day\n",
       "Regularly busy    22416875\n",
       "Busiest day        6204182\n",
       "Least busy         3783802\n",
       "Name: count, dtype: int64"
      ]
     },
     "execution_count": 21,
     "metadata": {},
     "output_type": "execute_result"
    }
   ],
   "source": [
    "# Count each label's occurrences\n",
    "df_ords_prods_merge['busiest_day'].value_counts(dropna=False)"
   ]
  },
  {
   "cell_type": "code",
   "execution_count": 22,
   "id": "3f9fba16-6d48-47ec-a9c4-ec047d80cf6f",
   "metadata": {},
   "outputs": [
    {
     "data": {
      "text/plain": [
       "busiest_day\n",
       "Regularly busy    0.691775\n",
       "Busiest day       0.191458\n",
       "Least busy        0.116767\n",
       "Name: proportion, dtype: float64"
      ]
     },
     "execution_count": 22,
     "metadata": {},
     "output_type": "execute_result"
    }
   ],
   "source": [
    "# Count percentages of each label\n",
    "df_ords_prods_merge['busiest_day'].value_counts(normalize=True, dropna=False)"
   ]
  },
  {
   "cell_type": "markdown",
   "id": "c2a39b0f-cda0-473c-8195-39516c03ebbb",
   "metadata": {},
   "source": [
    "**Customer Shopping Behavior by Day of the Week:**\n",
    "\n",
    "- **69%** of orders are placed on **regularly busy days** (Mon–Sat excluding Wed).\n",
    "- **19%** of orders occur on **Sunday**, the **busiest day**.\n",
    "- **12%** of orders are made on **Wednesday**, the **least busy day**.\n",
    "\n",
    "**Insight**: Wednesday sees slightly lower traffic. While the gap is modest (~1–2%), it could still matter at scale. It might be a good candidate for  ** inventory resets, lighter staff schedules**, or **low-cost promotions**."
   ]
  },
  {
   "cell_type": "markdown",
   "id": "b8f4f444-693f-4964-ba09-596f1721547f",
   "metadata": {},
   "source": [
    "# 4. Creating busiest_days column (plural)"
   ]
  },
  {
   "cell_type": "code",
   "execution_count": 23,
   "id": "69f51a26-5bfa-4ba9-90db-d795ed618d58",
   "metadata": {},
   "outputs": [
    {
     "name": "stdout",
     "output_type": "stream",
     "text": [
      "orders_day_of_week\n",
      "0    6204182\n",
      "1    5660230\n",
      "6    4496490\n",
      "2    4213830\n",
      "5    4205791\n",
      "3    3840534\n",
      "4    3783802\n",
      "Name: count, dtype: int64\n"
     ]
    }
   ],
   "source": [
    "# Count orders per day (sorted descending)\n",
    "day_counts = df_ords_prods_merge['orders_day_of_week'].value_counts().sort_values(ascending=False)\n",
    "print(day_counts)"
   ]
  },
  {
   "cell_type": "markdown",
   "id": "7ca74785-70e1-449f-849a-330143f9487f",
   "metadata": {},
   "source": [
    "**We see that Sunday and Monday are busiest days; Wednesday and Thursday are least busy two days**"
   ]
  },
  {
   "cell_type": "code",
   "execution_count": 24,
   "id": "b8ef2d23-6ef0-4ce6-a70e-e938f9285efa",
   "metadata": {},
   "outputs": [],
   "source": [
    "# Creating busiest_days column\n",
    "\n",
    "busiest_days_result = []\n",
    "\n",
    "for value in df_ords_prods_merge[\"orders_day_of_week\"]:\n",
    "    if value in [0, 1]:\n",
    "        busiest_days_result.append(\"Busiest two days\")\n",
    "    elif value in [3, 4]:\n",
    "        busiest_days_result.append(\"Least two busy days\")\n",
    "    else:\n",
    "        busiest_days_result.append(\"Regularly busy days\")\n",
    "\n",
    "df_ords_prods_merge['busiest_days'] = busiest_days_result"
   ]
  },
  {
   "cell_type": "code",
   "execution_count": 26,
   "id": "b5c52dc6-523b-4c7a-9a25-98364b6bb8bd",
   "metadata": {},
   "outputs": [
    {
     "data": {
      "text/plain": [
       "busiest_days\n",
       "Regularly busy days    12916111\n",
       "Busiest two days       11864412\n",
       "Least two busy days     7624336\n",
       "Name: count, dtype: int64"
      ]
     },
     "execution_count": 26,
     "metadata": {},
     "output_type": "execute_result"
    }
   ],
   "source": [
    "# Count occurrences of each label in 'busiest_days'\n",
    "df_ords_prods_merge['busiest_days'].value_counts(dropna=False)"
   ]
  },
  {
   "cell_type": "code",
   "execution_count": 27,
   "id": "905def6e-a33a-48f7-98df-9470b8564b0a",
   "metadata": {},
   "outputs": [
    {
     "data": {
      "text/plain": [
       "busiest_days\n",
       "Regularly busy days    0.398586\n",
       "Busiest two days       0.366131\n",
       "Least two busy days    0.235284\n",
       "Name: proportion, dtype: float64"
      ]
     },
     "execution_count": 27,
     "metadata": {},
     "output_type": "execute_result"
    }
   ],
   "source": [
    "# Count percentages of each label\n",
    "df_ords_prods_merge['busiest_days'].value_counts(normalize=True, dropna=False)"
   ]
  },
  {
   "cell_type": "markdown",
   "id": "6b88d191-2547-49da-bfa1-cc6af64b47d2",
   "metadata": {},
   "source": [
    "**Customer Shopping Behavior by Day of the Week**\n",
    "- 40% of orders occur on regularly busy days (Tuesday, Thursday, Friday, Saturday).\n",
    "\n",
    "- 36% of orders are placed on the two busiest days: Sunday and Monday.\n",
    "\n",
    "- 24% of orders happen on the two slowest days: Wednesday and Thursday.\n",
    "\n",
    "**Business Insight**:\n",
    "Tuesday and Wednesday behave like “weekend days” with lower order volume. These days present opportunities to optimize operations by reducing staff hours or scheduling inventory maintenance. Additionally, targeted low-cost promotions on these slower days could help boost traffic and even out demand throughout the week."
   ]
  },
  {
   "cell_type": "markdown",
   "id": "cd5f4a61-e9c8-4e3d-bcbf-342847cdc00a",
   "metadata": {},
   "source": [
    "# 5. Creating busiest_period_of_day column"
   ]
  },
  {
   "cell_type": "code",
   "execution_count": 28,
   "id": "dba69fa1-658c-4169-878f-e4e8d22edbdb",
   "metadata": {},
   "outputs": [
    {
     "data": {
      "text/plain": [
       "Index(['order_id', 'user_id', 'order_number', 'orders_day_of_week',\n",
       "       'order_hour_of_day', 'days_between_orders', 'new_customer',\n",
       "       'product_id', 'add_to_cart_order', 'reordered', 'product_name',\n",
       "       'aisle_id', 'department_id', 'prices', '_merge', 'price_range',\n",
       "       'busiest_day', 'busiest_days'],\n",
       "      dtype='object')"
      ]
     },
     "execution_count": 28,
     "metadata": {},
     "output_type": "execute_result"
    }
   ],
   "source": [
    "# retrieving exact name of column related to hour of the day\n",
    "df_ords_prods_merge.columns"
   ]
  },
  {
   "cell_type": "code",
   "execution_count": 29,
   "id": "8006d10d-51bf-47f6-a788-90bbddffbe64",
   "metadata": {},
   "outputs": [
    {
     "name": "stdout",
     "output_type": "stream",
     "text": [
      "order_hour_of_day\n",
      "10    2761760\n",
      "11    2736140\n",
      "14    2689136\n",
      "15    2662144\n",
      "13    2660954\n",
      "12    2618532\n",
      "16    2535202\n",
      "9     2454203\n",
      "17    2087654\n",
      "8     1718118\n",
      "18    1636502\n",
      "19    1258305\n",
      "20     976156\n",
      "7      891054\n",
      "21     795637\n",
      "22     634225\n",
      "23     402316\n",
      "6      290493\n",
      "0      218769\n",
      "1      115700\n",
      "5       87961\n",
      "2       69375\n",
      "4       53242\n",
      "3       51281\n",
      "Name: count, dtype: int64\n"
     ]
    }
   ],
   "source": [
    "# Count orders per hour (sorted in descending order)\n",
    "hour_counts = df_ords_prods_merge['order_hour_of_day'].value_counts().sort_values(ascending=False)\n",
    "print(hour_counts)"
   ]
  },
  {
   "cell_type": "code",
   "execution_count": 30,
   "id": "48fb5324-f18c-40a3-9d72-5ee111686eca",
   "metadata": {},
   "outputs": [],
   "source": [
    "# creating busiest_period_of_day column\n",
    "busiest_period_of_day_result = []\n",
    "\n",
    "for hour in df_ords_prods_merge['order_hour_of_day']:\n",
    "    if 6 <= hour < 16:\n",
    "        busiest_period_of_day_result.append(\"Most orders\")\n",
    "    elif 17 <= hour <= 23:\n",
    "        busiest_period_of_day_result.append(\"Average Orders\")\n",
    "    else:\n",
    "        busiest_period_of_day_result.append(\"Fewest Orders\")\n",
    "\n",
    "df_ords_prods_merge['busiest_period_of_day'] = busiest_period_of_day_result"
   ]
  },
  {
   "cell_type": "code",
   "execution_count": 31,
   "id": "3b275f5c-5517-423d-ab22-23f3e9bb900f",
   "metadata": {},
   "outputs": [
    {
     "data": {
      "text/plain": [
       "busiest_period_of_day\n",
       "Most orders       21482534\n",
       "Average Orders     7790795\n",
       "Fewest Orders      3131530\n",
       "Name: count, dtype: int64"
      ]
     },
     "execution_count": 31,
     "metadata": {},
     "output_type": "execute_result"
    }
   ],
   "source": [
    "# Count occurrences of each label in new column\n",
    "df_ords_prods_merge['busiest_period_of_day'].value_counts(dropna=False)"
   ]
  },
  {
   "cell_type": "code",
   "execution_count": 32,
   "id": "46dc7dd7-0635-458c-b49f-0e7b78c46499",
   "metadata": {},
   "outputs": [
    {
     "data": {
      "text/plain": [
       "busiest_period_of_day\n",
       "Most orders       0.662942\n",
       "Average Orders    0.240421\n",
       "Fewest Orders     0.096638\n",
       "Name: proportion, dtype: float64"
      ]
     },
     "execution_count": 32,
     "metadata": {},
     "output_type": "execute_result"
    }
   ],
   "source": [
    "# Count percentages of each label\n",
    "df_ords_prods_merge['busiest_period_of_day'].value_counts(normalize=True, dropna=False)"
   ]
  },
  {
   "cell_type": "markdown",
   "id": "9a74bfbc-44d9-45b6-9a22-989b2cfc06e7",
   "metadata": {},
   "source": [
    "**Notes on orders per period of the day and business recommendations**\n",
    "-- \n",
    "- Most orders (66%) occurr between 7 AM and 4 PM: Ensure infrastructure and staffing are robust to handle peak traffic; consider premium or time-sensitive promotions.\n",
    "\n",
    "- Late afternoon until bedtime (5 PM to 11 PM) brings almost 25% of order volume and therefore labeled \"Average order\" as time period. Therefore, a moderate resource allocation is advised.\n",
    "\n",
    "- Fewest orders (less than 1%) occurr between 12 AM and 6 AM: Minimal staffing needed, and no sense in doing any promotional activity."
   ]
  },
  {
   "cell_type": "markdown",
   "id": "12a19ff9-8689-4949-a873-9263bb3817f4",
   "metadata": {},
   "source": [
    "# 6. Export of new file and final checks"
   ]
  },
  {
   "cell_type": "code",
   "execution_count": 34,
   "id": "fff271fd-7463-4a17-8883-57ee9c7cbb4b",
   "metadata": {},
   "outputs": [],
   "source": [
    "# exporting data frame with new columns as pickle file\n",
    "df_ords_prods_merge.to_pickle(os.path.join(path, '02 Data', 'Prepared Data', 'ords_prods_merge_new_columns.pkl'))\n"
   ]
  },
  {
   "cell_type": "code",
   "execution_count": 35,
   "id": "81c200aa-2f40-4d6d-8d37-6eac3ff29f5e",
   "metadata": {},
   "outputs": [
    {
     "name": "stdout",
     "output_type": "stream",
     "text": [
      "✅ All expected new columns are present.\n"
     ]
    }
   ],
   "source": [
    "# Check if all expected columns are present\n",
    "expected_columns = ['busiest_day', 'busiest_days', 'busiest_period_of_day']\n",
    "missing_columns = [col for col in expected_columns if col not in df_ords_prods_merge.columns]\n",
    "\n",
    "if missing_columns:\n",
    "    print(\"⚠️ Missing columns:\", missing_columns)\n",
    "else:\n",
    "    print(\"✅ All expected new columns are present.\")\n"
   ]
  },
  {
   "cell_type": "code",
   "execution_count": 37,
   "id": "59cc3054-da02-4b33-b394-4b3f4b7a07b7",
   "metadata": {},
   "outputs": [
    {
     "name": "stdout",
     "output_type": "stream",
     "text": [
      "   order_id  user_id  order_number  orders_day_of_week  order_hour_of_day  \\\n",
      "0   2539329        1             1                   2                  8   \n",
      "1   2539329        1             1                   2                  8   \n",
      "2   2539329        1             1                   2                  8   \n",
      "3   2539329        1             1                   2                  8   \n",
      "4   2539329        1             1                   2                  8   \n",
      "\n",
      "   days_between_orders  new_customer  product_id  add_to_cart_order  \\\n",
      "0                  NaN          True         196                  1   \n",
      "1                  NaN          True       14084                  2   \n",
      "2                  NaN          True       12427                  3   \n",
      "3                  NaN          True       26088                  4   \n",
      "4                  NaN          True       26405                  5   \n",
      "\n",
      "   reordered                             product_name  aisle_id  \\\n",
      "0          0                                     Soda        77   \n",
      "1          0  Organic Unsweetened Vanilla Almond Milk        91   \n",
      "2          0                      Original Beef Jerky        23   \n",
      "3          0               Aged White Cheddar Popcorn        23   \n",
      "4          0         XL Pick-A-Size Paper Towel Rolls        54   \n",
      "\n",
      "   department_id  prices _merge        price_range     busiest_day  \\\n",
      "0              7     9.0   both  Mid-range product  Regularly busy   \n",
      "1             16    12.5   both  Mid-range product  Regularly busy   \n",
      "2             19     4.4   both  Low-range product  Regularly busy   \n",
      "3             19     4.7   both  Low-range product  Regularly busy   \n",
      "4             17     1.0   both  Low-range product  Regularly busy   \n",
      "\n",
      "          busiest_days busiest_period_of_day  \n",
      "0  Regularly busy days           Most orders  \n",
      "1  Regularly busy days           Most orders  \n",
      "2  Regularly busy days           Most orders  \n",
      "3  Regularly busy days           Most orders  \n",
      "4  Regularly busy days           Most orders  \n",
      "Index(['order_id', 'user_id', 'order_number', 'orders_day_of_week',\n",
      "       'order_hour_of_day', 'days_between_orders', 'new_customer',\n",
      "       'product_id', 'add_to_cart_order', 'reordered', 'product_name',\n",
      "       'aisle_id', 'department_id', 'prices', '_merge', 'price_range',\n",
      "       'busiest_day', 'busiest_days', 'busiest_period_of_day'],\n",
      "      dtype='object')\n",
      "(32404859, 19)\n"
     ]
    }
   ],
   "source": [
    "# Checking new pickle file\n",
    "df = pd.read_pickle(os.path.join(path, '02 Data', 'Prepared Data', 'ords_prods_merge_new_columns.pkl'))\n",
    "\n",
    "# Preview the first 5 rows\n",
    "print(df.head())\n",
    "\n",
    "# Check columns and shape\n",
    "print(df.columns)\n",
    "print(df.shape)"
   ]
  },
  {
   "cell_type": "code",
   "execution_count": 38,
   "id": "d64a4775-97ce-4131-aad5-25c83bb15fa3",
   "metadata": {},
   "outputs": [
    {
     "name": "stdout",
     "output_type": "stream",
     "text": [
      "<class 'pandas.core.frame.DataFrame'>\n",
      "RangeIndex: 32404859 entries, 0 to 32404858\n",
      "Data columns (total 19 columns):\n",
      " #   Column                 Dtype   \n",
      "---  ------                 -----   \n",
      " 0   order_id               int32   \n",
      " 1   user_id                int32   \n",
      " 2   order_number           int8    \n",
      " 3   orders_day_of_week     int8    \n",
      " 4   order_hour_of_day      int8    \n",
      " 5   days_between_orders    float32 \n",
      " 6   new_customer           bool    \n",
      " 7   product_id             int32   \n",
      " 8   add_to_cart_order      int32   \n",
      " 9   reordered              int8    \n",
      " 10  product_name           object  \n",
      " 11  aisle_id               int8    \n",
      " 12  department_id          int8    \n",
      " 13  prices                 float64 \n",
      " 14  _merge                 category\n",
      " 15  price_range            object  \n",
      " 16  busiest_day            object  \n",
      " 17  busiest_days           object  \n",
      " 18  busiest_period_of_day  object  \n",
      "dtypes: bool(1), category(1), float32(1), float64(1), int32(4), int8(6), object(5)\n",
      "memory usage: 2.3+ GB\n"
     ]
    }
   ],
   "source": [
    "#checking size of new pickle file\n",
    "df.info()"
   ]
  },
  {
   "cell_type": "code",
   "execution_count": null,
   "id": "45a9ba66-ab71-4d0b-8bcf-b8c1f1a05a2b",
   "metadata": {},
   "outputs": [],
   "source": []
  }
 ],
 "metadata": {
  "kernelspec": {
   "display_name": "Python [conda env:base] *",
   "language": "python",
   "name": "conda-base-py"
  },
  "language_info": {
   "codemirror_mode": {
    "name": "ipython",
    "version": 3
   },
   "file_extension": ".py",
   "mimetype": "text/x-python",
   "name": "python",
   "nbconvert_exporter": "python",
   "pygments_lexer": "ipython3",
   "version": "3.12.7"
  }
 },
 "nbformat": 4,
 "nbformat_minor": 5
}
