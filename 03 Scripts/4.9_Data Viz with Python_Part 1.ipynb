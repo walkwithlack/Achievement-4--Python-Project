{
 "cells": [
  {
   "cell_type": "markdown",
   "id": "c043adda-85a5-44c3-86e1-6d80233ece73",
   "metadata": {},
   "source": [
    "# This script contains the following chapters:\n",
    "1. Importing libraries and customer data \n",
    "2. Data Wrangling\n",
    "3. Combine customer data with large ords_prods data and export"
   ]
  },
  {
   "cell_type": "markdown",
   "id": "466cb757-6c44-4122-b2cd-d01029ac3d77",
   "metadata": {},
   "source": [
    "# 1. Importing data and libraries"
   ]
  },
  {
   "cell_type": "code",
   "execution_count": 1,
   "id": "014fa61b-3110-4c82-8bc3-9a1f9a5d7750",
   "metadata": {},
   "outputs": [],
   "source": [
    "# import libraries\n",
    "import pandas as pd\n",
    "import numpy as np\n",
    "import os\n",
    "import matplotlib.pyplot as plt\n",
    "import seaborn as sns\n",
    "import scipy"
   ]
  },
  {
   "cell_type": "code",
   "execution_count": 2,
   "id": "2e62bb0a-9f49-40ef-ad94-bac0566c6842",
   "metadata": {},
   "outputs": [],
   "source": [
    "# create path for easier data import\n",
    "path = r'C:\\Users\\magia\\06-2025 Instacart Basket Analysis'"
   ]
  },
  {
   "cell_type": "code",
   "execution_count": 3,
   "id": "81b651a0-a17d-470d-84de-789dff3ddccd",
   "metadata": {},
   "outputs": [],
   "source": [
    "# importing data set using path variable\n",
    "cust = pd.read_csv(os.path.join(path, '02 Data', 'Original Data', 'customers.csv'), index_col = False)"
   ]
  },
  {
   "cell_type": "markdown",
   "id": "46782c9d-bc7c-4248-bc18-956dccbba9f9",
   "metadata": {},
   "source": [
    "# 2. Data Wrangling"
   ]
  },
  {
   "cell_type": "code",
   "execution_count": 4,
   "id": "e1aa049b-1be5-4640-85b8-deee402d30c1",
   "metadata": {},
   "outputs": [
    {
     "data": {
      "text/plain": [
       "(206209, 10)"
      ]
     },
     "execution_count": 4,
     "metadata": {},
     "output_type": "execute_result"
    }
   ],
   "source": [
    "# explore data with shape attribute\n",
    "cust.shape"
   ]
  },
  {
   "cell_type": "code",
   "execution_count": 5,
   "id": "dd7bc4c3-65f1-4368-a03c-30f915120102",
   "metadata": {},
   "outputs": [
    {
     "name": "stdout",
     "output_type": "stream",
     "text": [
      "<class 'pandas.core.frame.DataFrame'>\n",
      "RangeIndex: 206209 entries, 0 to 206208\n",
      "Data columns (total 10 columns):\n",
      " #   Column        Non-Null Count   Dtype \n",
      "---  ------        --------------   ----- \n",
      " 0   user_id       206209 non-null  int64 \n",
      " 1   First Name    194950 non-null  object\n",
      " 2   Surnam        206209 non-null  object\n",
      " 3   Gender        206209 non-null  object\n",
      " 4   STATE         206209 non-null  object\n",
      " 5   Age           206209 non-null  int64 \n",
      " 6   date_joined   206209 non-null  object\n",
      " 7   n_dependants  206209 non-null  int64 \n",
      " 8   fam_status    206209 non-null  object\n",
      " 9   income        206209 non-null  int64 \n",
      "dtypes: int64(4), object(6)\n",
      "memory usage: 15.7+ MB\n"
     ]
    }
   ],
   "source": [
    "# explore data with info() function\n",
    "cust.info()"
   ]
  },
  {
   "cell_type": "markdown",
   "id": "6cd559ac-3bad-4f42-bdeb-08f96c19ffe2",
   "metadata": {},
   "source": [
    "We have ca. 10.000 first names missing"
   ]
  },
  {
   "cell_type": "code",
   "execution_count": 6,
   "id": "f7bc86b0-138d-4da9-a904-c52aba80d763",
   "metadata": {},
   "outputs": [
    {
     "data": {
      "text/html": [
       "<div>\n",
       "<style scoped>\n",
       "    .dataframe tbody tr th:only-of-type {\n",
       "        vertical-align: middle;\n",
       "    }\n",
       "\n",
       "    .dataframe tbody tr th {\n",
       "        vertical-align: top;\n",
       "    }\n",
       "\n",
       "    .dataframe thead th {\n",
       "        text-align: right;\n",
       "    }\n",
       "</style>\n",
       "<table border=\"1\" class=\"dataframe\">\n",
       "  <thead>\n",
       "    <tr style=\"text-align: right;\">\n",
       "      <th></th>\n",
       "      <th>user_id</th>\n",
       "      <th>Age</th>\n",
       "      <th>n_dependants</th>\n",
       "      <th>income</th>\n",
       "    </tr>\n",
       "  </thead>\n",
       "  <tbody>\n",
       "    <tr>\n",
       "      <th>count</th>\n",
       "      <td>206209.000000</td>\n",
       "      <td>206209.000000</td>\n",
       "      <td>206209.000000</td>\n",
       "      <td>206209.000000</td>\n",
       "    </tr>\n",
       "    <tr>\n",
       "      <th>mean</th>\n",
       "      <td>103105.000000</td>\n",
       "      <td>49.501646</td>\n",
       "      <td>1.499823</td>\n",
       "      <td>94632.852548</td>\n",
       "    </tr>\n",
       "    <tr>\n",
       "      <th>std</th>\n",
       "      <td>59527.555167</td>\n",
       "      <td>18.480962</td>\n",
       "      <td>1.118433</td>\n",
       "      <td>42473.786988</td>\n",
       "    </tr>\n",
       "    <tr>\n",
       "      <th>min</th>\n",
       "      <td>1.000000</td>\n",
       "      <td>18.000000</td>\n",
       "      <td>0.000000</td>\n",
       "      <td>25903.000000</td>\n",
       "    </tr>\n",
       "    <tr>\n",
       "      <th>25%</th>\n",
       "      <td>51553.000000</td>\n",
       "      <td>33.000000</td>\n",
       "      <td>0.000000</td>\n",
       "      <td>59874.000000</td>\n",
       "    </tr>\n",
       "    <tr>\n",
       "      <th>50%</th>\n",
       "      <td>103105.000000</td>\n",
       "      <td>49.000000</td>\n",
       "      <td>1.000000</td>\n",
       "      <td>93547.000000</td>\n",
       "    </tr>\n",
       "    <tr>\n",
       "      <th>75%</th>\n",
       "      <td>154657.000000</td>\n",
       "      <td>66.000000</td>\n",
       "      <td>3.000000</td>\n",
       "      <td>124244.000000</td>\n",
       "    </tr>\n",
       "    <tr>\n",
       "      <th>max</th>\n",
       "      <td>206209.000000</td>\n",
       "      <td>81.000000</td>\n",
       "      <td>3.000000</td>\n",
       "      <td>593901.000000</td>\n",
       "    </tr>\n",
       "  </tbody>\n",
       "</table>\n",
       "</div>"
      ],
      "text/plain": [
       "             user_id            Age   n_dependants         income\n",
       "count  206209.000000  206209.000000  206209.000000  206209.000000\n",
       "mean   103105.000000      49.501646       1.499823   94632.852548\n",
       "std     59527.555167      18.480962       1.118433   42473.786988\n",
       "min         1.000000      18.000000       0.000000   25903.000000\n",
       "25%     51553.000000      33.000000       0.000000   59874.000000\n",
       "50%    103105.000000      49.000000       1.000000   93547.000000\n",
       "75%    154657.000000      66.000000       3.000000  124244.000000\n",
       "max    206209.000000      81.000000       3.000000  593901.000000"
      ]
     },
     "execution_count": 6,
     "metadata": {},
     "output_type": "execute_result"
    }
   ],
   "source": [
    "# explore data with describe() function\n",
    "cust.describe()"
   ]
  },
  {
   "cell_type": "markdown",
   "id": "f2c6f513-4673-4983-b6bf-c514a51706b1",
   "metadata": {},
   "source": [
    "- **Age**: Ranges from 18 to 81 years, with a median of 49. The distribution is fairly spread, with approximately 15–17 year gaps between quartiles, reflecting a wide adult age range.\n",
    "\n",
    "- **Income**: The first three quartiles cover a range of roughly 31k–34k USD, but there’s a substantial jump from the 75th percentile (ca.120k) to the maximum (ca.600k), indicating a right-skewed distribution. Since product prices at IC max out around $25, extreme high incomes probably have no impact on purchasing behavior."
   ]
  },
  {
   "cell_type": "code",
   "execution_count": 7,
   "id": "46017542-fc50-4abb-b998-8c0c4e292ca4",
   "metadata": {},
   "outputs": [
    {
     "data": {
      "text/html": [
       "<div>\n",
       "<style scoped>\n",
       "    .dataframe tbody tr th:only-of-type {\n",
       "        vertical-align: middle;\n",
       "    }\n",
       "\n",
       "    .dataframe tbody tr th {\n",
       "        vertical-align: top;\n",
       "    }\n",
       "\n",
       "    .dataframe thead th {\n",
       "        text-align: right;\n",
       "    }\n",
       "</style>\n",
       "<table border=\"1\" class=\"dataframe\">\n",
       "  <thead>\n",
       "    <tr style=\"text-align: right;\">\n",
       "      <th></th>\n",
       "      <th>user_id</th>\n",
       "      <th>First Name</th>\n",
       "      <th>Surnam</th>\n",
       "      <th>Gender</th>\n",
       "      <th>STATE</th>\n",
       "      <th>Age</th>\n",
       "      <th>date_joined</th>\n",
       "      <th>n_dependants</th>\n",
       "      <th>fam_status</th>\n",
       "      <th>income</th>\n",
       "    </tr>\n",
       "  </thead>\n",
       "  <tbody>\n",
       "    <tr>\n",
       "      <th>0</th>\n",
       "      <td>26711</td>\n",
       "      <td>Deborah</td>\n",
       "      <td>Esquivel</td>\n",
       "      <td>Female</td>\n",
       "      <td>Missouri</td>\n",
       "      <td>48</td>\n",
       "      <td>1/1/2017</td>\n",
       "      <td>3</td>\n",
       "      <td>married</td>\n",
       "      <td>165665</td>\n",
       "    </tr>\n",
       "    <tr>\n",
       "      <th>1</th>\n",
       "      <td>33890</td>\n",
       "      <td>Patricia</td>\n",
       "      <td>Hart</td>\n",
       "      <td>Female</td>\n",
       "      <td>New Mexico</td>\n",
       "      <td>36</td>\n",
       "      <td>1/1/2017</td>\n",
       "      <td>0</td>\n",
       "      <td>single</td>\n",
       "      <td>59285</td>\n",
       "    </tr>\n",
       "    <tr>\n",
       "      <th>2</th>\n",
       "      <td>65803</td>\n",
       "      <td>Kenneth</td>\n",
       "      <td>Farley</td>\n",
       "      <td>Male</td>\n",
       "      <td>Idaho</td>\n",
       "      <td>35</td>\n",
       "      <td>1/1/2017</td>\n",
       "      <td>2</td>\n",
       "      <td>married</td>\n",
       "      <td>99568</td>\n",
       "    </tr>\n",
       "    <tr>\n",
       "      <th>3</th>\n",
       "      <td>125935</td>\n",
       "      <td>Michelle</td>\n",
       "      <td>Hicks</td>\n",
       "      <td>Female</td>\n",
       "      <td>Iowa</td>\n",
       "      <td>40</td>\n",
       "      <td>1/1/2017</td>\n",
       "      <td>0</td>\n",
       "      <td>single</td>\n",
       "      <td>42049</td>\n",
       "    </tr>\n",
       "    <tr>\n",
       "      <th>4</th>\n",
       "      <td>130797</td>\n",
       "      <td>Ann</td>\n",
       "      <td>Gilmore</td>\n",
       "      <td>Female</td>\n",
       "      <td>Maryland</td>\n",
       "      <td>26</td>\n",
       "      <td>1/1/2017</td>\n",
       "      <td>1</td>\n",
       "      <td>married</td>\n",
       "      <td>40374</td>\n",
       "    </tr>\n",
       "  </tbody>\n",
       "</table>\n",
       "</div>"
      ],
      "text/plain": [
       "   user_id First Name    Surnam  Gender       STATE  Age date_joined  \\\n",
       "0    26711    Deborah  Esquivel  Female    Missouri   48    1/1/2017   \n",
       "1    33890   Patricia      Hart  Female  New Mexico   36    1/1/2017   \n",
       "2    65803    Kenneth    Farley    Male       Idaho   35    1/1/2017   \n",
       "3   125935   Michelle     Hicks  Female        Iowa   40    1/1/2017   \n",
       "4   130797        Ann   Gilmore  Female    Maryland   26    1/1/2017   \n",
       "\n",
       "   n_dependants fam_status  income  \n",
       "0             3    married  165665  \n",
       "1             0     single   59285  \n",
       "2             2    married   99568  \n",
       "3             0     single   42049  \n",
       "4             1    married   40374  "
      ]
     },
     "execution_count": 7,
     "metadata": {},
     "output_type": "execute_result"
    }
   ],
   "source": [
    "# explore data with head() function\n",
    "cust.head()"
   ]
  },
  {
   "cell_type": "code",
   "execution_count": 8,
   "id": "923076fe-b21f-4726-8436-34a09cadd0cf",
   "metadata": {},
   "outputs": [
    {
     "data": {
      "text/html": [
       "<div>\n",
       "<style scoped>\n",
       "    .dataframe tbody tr th:only-of-type {\n",
       "        vertical-align: middle;\n",
       "    }\n",
       "\n",
       "    .dataframe tbody tr th {\n",
       "        vertical-align: top;\n",
       "    }\n",
       "\n",
       "    .dataframe thead th {\n",
       "        text-align: right;\n",
       "    }\n",
       "</style>\n",
       "<table border=\"1\" class=\"dataframe\">\n",
       "  <thead>\n",
       "    <tr style=\"text-align: right;\">\n",
       "      <th></th>\n",
       "      <th>user_id</th>\n",
       "      <th>First Name</th>\n",
       "      <th>Surnam</th>\n",
       "      <th>Gender</th>\n",
       "      <th>STATE</th>\n",
       "      <th>Age</th>\n",
       "      <th>date_joined</th>\n",
       "      <th>n_dependants</th>\n",
       "      <th>fam_status</th>\n",
       "      <th>income</th>\n",
       "    </tr>\n",
       "  </thead>\n",
       "  <tbody>\n",
       "    <tr>\n",
       "      <th>206204</th>\n",
       "      <td>168073</td>\n",
       "      <td>Lisa</td>\n",
       "      <td>Case</td>\n",
       "      <td>Female</td>\n",
       "      <td>North Carolina</td>\n",
       "      <td>44</td>\n",
       "      <td>4/1/2020</td>\n",
       "      <td>1</td>\n",
       "      <td>married</td>\n",
       "      <td>148828</td>\n",
       "    </tr>\n",
       "    <tr>\n",
       "      <th>206205</th>\n",
       "      <td>49635</td>\n",
       "      <td>Jeremy</td>\n",
       "      <td>Robbins</td>\n",
       "      <td>Male</td>\n",
       "      <td>Hawaii</td>\n",
       "      <td>62</td>\n",
       "      <td>4/1/2020</td>\n",
       "      <td>3</td>\n",
       "      <td>married</td>\n",
       "      <td>168639</td>\n",
       "    </tr>\n",
       "    <tr>\n",
       "      <th>206206</th>\n",
       "      <td>135902</td>\n",
       "      <td>Doris</td>\n",
       "      <td>Richmond</td>\n",
       "      <td>Female</td>\n",
       "      <td>Missouri</td>\n",
       "      <td>66</td>\n",
       "      <td>4/1/2020</td>\n",
       "      <td>2</td>\n",
       "      <td>married</td>\n",
       "      <td>53374</td>\n",
       "    </tr>\n",
       "    <tr>\n",
       "      <th>206207</th>\n",
       "      <td>81095</td>\n",
       "      <td>Rose</td>\n",
       "      <td>Rollins</td>\n",
       "      <td>Female</td>\n",
       "      <td>California</td>\n",
       "      <td>27</td>\n",
       "      <td>4/1/2020</td>\n",
       "      <td>1</td>\n",
       "      <td>married</td>\n",
       "      <td>99799</td>\n",
       "    </tr>\n",
       "    <tr>\n",
       "      <th>206208</th>\n",
       "      <td>80148</td>\n",
       "      <td>Cynthia</td>\n",
       "      <td>Noble</td>\n",
       "      <td>Female</td>\n",
       "      <td>New York</td>\n",
       "      <td>55</td>\n",
       "      <td>4/1/2020</td>\n",
       "      <td>1</td>\n",
       "      <td>married</td>\n",
       "      <td>57095</td>\n",
       "    </tr>\n",
       "  </tbody>\n",
       "</table>\n",
       "</div>"
      ],
      "text/plain": [
       "        user_id First Name    Surnam  Gender           STATE  Age date_joined  \\\n",
       "206204   168073       Lisa      Case  Female  North Carolina   44    4/1/2020   \n",
       "206205    49635     Jeremy   Robbins    Male          Hawaii   62    4/1/2020   \n",
       "206206   135902      Doris  Richmond  Female        Missouri   66    4/1/2020   \n",
       "206207    81095       Rose   Rollins  Female      California   27    4/1/2020   \n",
       "206208    80148    Cynthia     Noble  Female        New York   55    4/1/2020   \n",
       "\n",
       "        n_dependants fam_status  income  \n",
       "206204             1    married  148828  \n",
       "206205             3    married  168639  \n",
       "206206             2    married   53374  \n",
       "206207             1    married   99799  \n",
       "206208             1    married   57095  "
      ]
     },
     "execution_count": 8,
     "metadata": {},
     "output_type": "execute_result"
    }
   ],
   "source": [
    "# explore data with tail() function\n",
    "cust.tail()"
   ]
  },
  {
   "cell_type": "code",
   "execution_count": 9,
   "id": "8a964b33-f93a-47df-824a-32cd25b83a1c",
   "metadata": {},
   "outputs": [],
   "source": [
    "# rename columns - fix typos and unclear names\n",
    "\n",
    "cust = cust.rename(columns={\n",
    "    'First Name': 'first_name',\n",
    "    'Surnam': 'surname',\n",
    "    'Gender': 'gender',      \n",
    "    'STATE': 'state',\n",
    "    'n_dependants': 'household_size'  # suggested name for clarity\n",
    "})"
   ]
  },
  {
   "cell_type": "code",
   "execution_count": 10,
   "id": "1be25e51-7a31-4abb-9276-cff53d6450de",
   "metadata": {},
   "outputs": [
    {
     "data": {
      "text/plain": [
       "Index(['user_id', 'first_name', 'surname', 'gender', 'state', 'Age',\n",
       "       'date_joined', 'household_size', 'fam_status', 'income'],\n",
       "      dtype='object')"
      ]
     },
     "execution_count": 10,
     "metadata": {},
     "output_type": "execute_result"
    }
   ],
   "source": [
    "# check changes with columns attribute\n",
    "cust.columns"
   ]
  },
  {
   "cell_type": "code",
   "execution_count": 11,
   "id": "3fd85e74-81f6-4205-afeb-6b4d0f043aa7",
   "metadata": {},
   "outputs": [],
   "source": [
    "# drop columns not useful for analysis: personal identifiers and redundant family status\n",
    "cust = cust.drop(columns=['first_name', 'surname', 'fam_status'])"
   ]
  },
  {
   "cell_type": "markdown",
   "id": "405b9e53-4be8-4c8c-af9a-2c449ef8a14a",
   "metadata": {},
   "source": [
    "`fam_status` was dropped because its information is already captured by `household_size`:\n",
    "- A value of 1 implies married (couple),\n",
    "- 0 implies single,\n",
    "- 2+ implies married with children.\n",
    "This makes `fam_status` redundant for analysis."
   ]
  },
  {
   "cell_type": "code",
   "execution_count": 12,
   "id": "c748dfed-1fb4-4032-b84e-e00f22fd0e54",
   "metadata": {},
   "outputs": [
    {
     "data": {
      "text/plain": [
       "user_id           0\n",
       "gender            0\n",
       "state             0\n",
       "Age               0\n",
       "date_joined       0\n",
       "household_size    0\n",
       "income            0\n",
       "dtype: int64"
      ]
     },
     "execution_count": 12,
     "metadata": {},
     "output_type": "execute_result"
    }
   ],
   "source": [
    "# check for missing values\n",
    "cust.isnull().sum()"
   ]
  },
  {
   "cell_type": "markdown",
   "id": "f98e898f-f295-4b91-9737-2b5c49f36258",
   "metadata": {},
   "source": [
    " We have no missing values in the customer dataset."
   ]
  },
  {
   "cell_type": "code",
   "execution_count": 13,
   "id": "32046bf7-3c25-44b2-b018-576336929bd3",
   "metadata": {},
   "outputs": [
    {
     "data": {
      "text/plain": [
       "0"
      ]
     },
     "execution_count": 13,
     "metadata": {},
     "output_type": "execute_result"
    }
   ],
   "source": [
    "# checking for duplicates\n",
    "cust.duplicated().sum()"
   ]
  },
  {
   "cell_type": "markdown",
   "id": "3b9999ad-ee23-4dd9-af55-3842bd84693c",
   "metadata": {},
   "source": [
    "We have no duplicate values in the customer dataset."
   ]
  },
  {
   "cell_type": "markdown",
   "id": "92bd78ca-3e5e-4b84-8a20-f04e2ea1839f",
   "metadata": {},
   "source": [
    "Age values look normal, we have no technical way of knowing whether gender information are accurate or not, so we check if there are maybe typos in the income column."
   ]
  },
  {
   "cell_type": "code",
   "execution_count": 14,
   "id": "25f3f1b7-37c6-47df-9df5-bc26f8406dfc",
   "metadata": {},
   "outputs": [
    {
     "name": "stdout",
     "output_type": "stream",
     "text": [
      "              income           Age\n",
      "count   51551.000000  51551.000000\n",
      "mean   150506.380904     60.654051\n",
      "std     29544.677697     12.247085\n",
      "min    124245.000000     18.000000\n",
      "25%    135918.000000     50.000000\n",
      "50%    147695.000000     61.000000\n",
      "75%    159473.500000     71.000000\n",
      "max    593901.000000     81.000000\n"
     ]
    }
   ],
   "source": [
    "# show summary stats for income above 75th percentile\n",
    "q3 = cust['income'].quantile(0.75)\n",
    "high_income = cust[cust['income'] > q3][['income', 'Age', 'state']]\n",
    "\n",
    "print(high_income.describe())"
   ]
  },
  {
   "cell_type": "code",
   "execution_count": 16,
   "id": "0eb84c3d-63c5-4697-9748-9e7297886155",
   "metadata": {},
   "outputs": [
    {
     "data": {
      "text/plain": [
       "51"
      ]
     },
     "execution_count": 16,
     "metadata": {},
     "output_type": "execute_result"
    }
   ],
   "source": [
    "#check if state column is correct content-wise\n",
    "cust.state.nunique()"
   ]
  },
  {
   "cell_type": "code",
   "execution_count": 17,
   "id": "717d477c-776b-4fb9-968d-dbb86342d4d8",
   "metadata": {},
   "outputs": [
    {
     "name": "stdout",
     "output_type": "stream",
     "text": [
      "['Missouri' 'New Mexico' 'Idaho' 'Iowa' 'Maryland' 'Kentucky' 'Montana'\n",
      " 'South Carolina' 'Texas' 'Virginia' 'Nevada' 'Nebraska' 'Georgia'\n",
      " 'Wyoming' 'Colorado' 'North Dakota' 'Wisconsin' 'Alaska' 'Vermont'\n",
      " 'Arkansas' 'Maine' 'North Carolina' 'West Virginia' 'Indiana' 'Oregon'\n",
      " 'Florida' 'California' 'Pennsylvania' 'Ohio' 'Connecticut' 'Arizona'\n",
      " 'Louisiana' 'Washington' 'New York' 'Mississippi' 'Oklahoma' 'Utah'\n",
      " 'New Hampshire' 'Hawaii' 'District of Columbia' 'Alabama' 'Massachusetts'\n",
      " 'Rhode Island' 'Michigan' 'New Jersey' 'Kansas' 'South Dakota'\n",
      " 'Minnesota' 'Illinois' 'Tennessee' 'Delaware']\n"
     ]
    }
   ],
   "source": [
    "print(cust.state.unique())"
   ]
  },
  {
   "cell_type": "markdown",
   "id": "9b62954a-98f9-48eb-807d-f37b5727ffaf",
   "metadata": {},
   "source": [
    "No mistakes in the state column"
   ]
  },
  {
   "cell_type": "code",
   "execution_count": 18,
   "id": "5224c389-2e3c-4116-abcd-80975d453129",
   "metadata": {},
   "outputs": [],
   "source": [
    "#renaming age column for consistency in lower case use\n",
    "cust = cust.rename(columns= {'Age' :'age'})"
   ]
  },
  {
   "cell_type": "code",
   "execution_count": 19,
   "id": "531545ca-bdb0-441e-996a-d45199fc420c",
   "metadata": {},
   "outputs": [
    {
     "data": {
      "text/plain": [
       "Index(['user_id', 'gender', 'state', 'age', 'date_joined', 'household_size',\n",
       "       'income'],\n",
       "      dtype='object')"
      ]
     },
     "execution_count": 19,
     "metadata": {},
     "output_type": "execute_result"
    }
   ],
   "source": [
    "cust.columns"
   ]
  },
  {
   "cell_type": "code",
   "execution_count": 20,
   "id": "06787bf8-f082-42f9-a8ea-03cb279110b7",
   "metadata": {},
   "outputs": [
    {
     "name": "stdout",
     "output_type": "stream",
     "text": [
      "<class 'pandas.core.frame.DataFrame'>\n",
      "RangeIndex: 206209 entries, 0 to 206208\n",
      "Data columns (total 7 columns):\n",
      " #   Column          Non-Null Count   Dtype \n",
      "---  ------          --------------   ----- \n",
      " 0   user_id         206209 non-null  int64 \n",
      " 1   gender          206209 non-null  object\n",
      " 2   state           206209 non-null  object\n",
      " 3   age             206209 non-null  int64 \n",
      " 4   date_joined     206209 non-null  object\n",
      " 5   household_size  206209 non-null  int64 \n",
      " 6   income          206209 non-null  int64 \n",
      "dtypes: int64(4), object(3)\n",
      "memory usage: 11.0+ MB\n"
     ]
    }
   ],
   "source": [
    "cust.info()"
   ]
  },
  {
   "cell_type": "code",
   "execution_count": 21,
   "id": "e33b84be-a3fa-41d1-a4ee-eda05469c241",
   "metadata": {},
   "outputs": [],
   "source": [
    "# change data type of date_joined column from string to datetime\n",
    "cust['date_joined'] = pd.to_datetime(cust['date_joined'])"
   ]
  },
  {
   "cell_type": "code",
   "execution_count": 22,
   "id": "39076f1c-10d5-4690-aa46-a1e055640378",
   "metadata": {},
   "outputs": [
    {
     "name": "stdout",
     "output_type": "stream",
     "text": [
      "<class 'pandas.core.frame.DataFrame'>\n",
      "RangeIndex: 206209 entries, 0 to 206208\n",
      "Data columns (total 7 columns):\n",
      " #   Column          Non-Null Count   Dtype         \n",
      "---  ------          --------------   -----         \n",
      " 0   user_id         206209 non-null  int64         \n",
      " 1   gender          206209 non-null  object        \n",
      " 2   state           206209 non-null  object        \n",
      " 3   age             206209 non-null  int64         \n",
      " 4   date_joined     206209 non-null  datetime64[ns]\n",
      " 5   household_size  206209 non-null  int64         \n",
      " 6   income          206209 non-null  int64         \n",
      "dtypes: datetime64[ns](1), int64(4), object(2)\n",
      "memory usage: 11.0+ MB\n"
     ]
    }
   ],
   "source": [
    "cust.info()"
   ]
  },
  {
   "cell_type": "markdown",
   "id": "54164801-dafa-4e0a-960c-2c0512228f21",
   "metadata": {},
   "source": [
    "# 3. Combine customer data with large ords_prods data and export"
   ]
  },
  {
   "cell_type": "code",
   "execution_count": 23,
   "id": "bb508e95-ac14-46c3-9a2b-815c0cfd2ca2",
   "metadata": {},
   "outputs": [],
   "source": [
    "# import large ords_prods dataframe\n",
    "ords_prods = pd.read_pickle(os.path.join(path, '02 Data', 'Prepared Data', 'ords_prods_merge_customer_segments_new.pkl'))"
   ]
  },
  {
   "cell_type": "code",
   "execution_count": 24,
   "id": "63af6036-f4a3-4dff-b1b3-62298b74fc7c",
   "metadata": {},
   "outputs": [
    {
     "name": "stdout",
     "output_type": "stream",
     "text": [
      "<class 'pandas.core.frame.DataFrame'>\n",
      "RangeIndex: 32404859 entries, 0 to 32404858\n",
      "Data columns (total 23 columns):\n",
      " #   Column                 Dtype   \n",
      "---  ------                 -----   \n",
      " 0   order_id               int32   \n",
      " 1   user_id                int32   \n",
      " 2   order_number           int8    \n",
      " 3   orders_day_of_week     int8    \n",
      " 4   order_hour_of_day      int8    \n",
      " 5   days_between_orders    float32 \n",
      " 6   new_customer           bool    \n",
      " 7   product_id             int32   \n",
      " 8   add_to_cart_order      int32   \n",
      " 9   reordered              int8    \n",
      " 10  product_name           object  \n",
      " 11  aisle_id               int8    \n",
      " 12  department_id          int8    \n",
      " 13  prices                 float64 \n",
      " 14  _merge                 category\n",
      " 15  price_range            object  \n",
      " 16  busiest_day            object  \n",
      " 17  busiest_days           object  \n",
      " 18  busiest_period_of_day  object  \n",
      " 19  max_order              int8    \n",
      " 20  loyalty_flag           object  \n",
      " 21  spending_flag          object  \n",
      " 22  frequency_flag         object  \n",
      "dtypes: bool(1), category(1), float32(1), float64(1), int32(4), int8(7), object(8)\n",
      "memory usage: 3.0+ GB\n"
     ]
    }
   ],
   "source": [
    "#check column data types once more before we merge dataframes\n",
    "ords_prods.info()"
   ]
  },
  {
   "cell_type": "markdown",
   "id": "9450e723-cdcf-47d7-b4ea-6cb23a9322b4",
   "metadata": {},
   "source": [
    "user_id, the commonly shared column, is once a int32 (ords_prods) and once an int64(cust). We need to fix this before merging."
   ]
  },
  {
   "cell_type": "code",
   "execution_count": 25,
   "id": "efb9b05d-a95b-476f-89d5-533762e26c52",
   "metadata": {},
   "outputs": [],
   "source": [
    "# convert user_id in cust to an int32\n",
    "cust['user_id'] = cust['user_id'].astype('int32')"
   ]
  },
  {
   "cell_type": "code",
   "execution_count": 26,
   "id": "70e46b9e-1b07-4088-83c0-60227910e86d",
   "metadata": {},
   "outputs": [],
   "source": [
    "#merge the two dataframes, save in df_merged\n",
    "df_merged = ords_prods.merge(cust, on='user_id', how='left')"
   ]
  },
  {
   "cell_type": "code",
   "execution_count": 27,
   "id": "76c297a0-b0b7-4a3a-854a-448fe82686f7",
   "metadata": {},
   "outputs": [
    {
     "data": {
      "text/plain": [
       "(32404859, 29)"
      ]
     },
     "execution_count": 27,
     "metadata": {},
     "output_type": "execute_result"
    }
   ],
   "source": [
    "#inspect merged dataframe with shape attribute\n",
    "df_merged.shape"
   ]
  },
  {
   "cell_type": "code",
   "execution_count": 28,
   "id": "466471b2-1f74-4691-b97d-f98518f01c12",
   "metadata": {},
   "outputs": [
    {
     "data": {
      "text/html": [
       "<div>\n",
       "<style scoped>\n",
       "    .dataframe tbody tr th:only-of-type {\n",
       "        vertical-align: middle;\n",
       "    }\n",
       "\n",
       "    .dataframe tbody tr th {\n",
       "        vertical-align: top;\n",
       "    }\n",
       "\n",
       "    .dataframe thead th {\n",
       "        text-align: right;\n",
       "    }\n",
       "</style>\n",
       "<table border=\"1\" class=\"dataframe\">\n",
       "  <thead>\n",
       "    <tr style=\"text-align: right;\">\n",
       "      <th></th>\n",
       "      <th>order_id</th>\n",
       "      <th>user_id</th>\n",
       "      <th>order_number</th>\n",
       "      <th>orders_day_of_week</th>\n",
       "      <th>order_hour_of_day</th>\n",
       "      <th>days_between_orders</th>\n",
       "      <th>new_customer</th>\n",
       "      <th>product_id</th>\n",
       "      <th>add_to_cart_order</th>\n",
       "      <th>reordered</th>\n",
       "      <th>...</th>\n",
       "      <th>max_order</th>\n",
       "      <th>loyalty_flag</th>\n",
       "      <th>spending_flag</th>\n",
       "      <th>frequency_flag</th>\n",
       "      <th>gender</th>\n",
       "      <th>state</th>\n",
       "      <th>age</th>\n",
       "      <th>date_joined</th>\n",
       "      <th>household_size</th>\n",
       "      <th>income</th>\n",
       "    </tr>\n",
       "  </thead>\n",
       "  <tbody>\n",
       "    <tr>\n",
       "      <th>0</th>\n",
       "      <td>2539329</td>\n",
       "      <td>1</td>\n",
       "      <td>1</td>\n",
       "      <td>2</td>\n",
       "      <td>8</td>\n",
       "      <td>NaN</td>\n",
       "      <td>True</td>\n",
       "      <td>196</td>\n",
       "      <td>1</td>\n",
       "      <td>0</td>\n",
       "      <td>...</td>\n",
       "      <td>10</td>\n",
       "      <td>New customer</td>\n",
       "      <td>Low spender</td>\n",
       "      <td>Regular customer</td>\n",
       "      <td>Female</td>\n",
       "      <td>Alabama</td>\n",
       "      <td>31</td>\n",
       "      <td>2019-02-17</td>\n",
       "      <td>3</td>\n",
       "      <td>40423</td>\n",
       "    </tr>\n",
       "    <tr>\n",
       "      <th>1</th>\n",
       "      <td>2539329</td>\n",
       "      <td>1</td>\n",
       "      <td>1</td>\n",
       "      <td>2</td>\n",
       "      <td>8</td>\n",
       "      <td>NaN</td>\n",
       "      <td>True</td>\n",
       "      <td>14084</td>\n",
       "      <td>2</td>\n",
       "      <td>0</td>\n",
       "      <td>...</td>\n",
       "      <td>10</td>\n",
       "      <td>New customer</td>\n",
       "      <td>Low spender</td>\n",
       "      <td>Regular customer</td>\n",
       "      <td>Female</td>\n",
       "      <td>Alabama</td>\n",
       "      <td>31</td>\n",
       "      <td>2019-02-17</td>\n",
       "      <td>3</td>\n",
       "      <td>40423</td>\n",
       "    </tr>\n",
       "    <tr>\n",
       "      <th>2</th>\n",
       "      <td>2539329</td>\n",
       "      <td>1</td>\n",
       "      <td>1</td>\n",
       "      <td>2</td>\n",
       "      <td>8</td>\n",
       "      <td>NaN</td>\n",
       "      <td>True</td>\n",
       "      <td>12427</td>\n",
       "      <td>3</td>\n",
       "      <td>0</td>\n",
       "      <td>...</td>\n",
       "      <td>10</td>\n",
       "      <td>New customer</td>\n",
       "      <td>Low spender</td>\n",
       "      <td>Regular customer</td>\n",
       "      <td>Female</td>\n",
       "      <td>Alabama</td>\n",
       "      <td>31</td>\n",
       "      <td>2019-02-17</td>\n",
       "      <td>3</td>\n",
       "      <td>40423</td>\n",
       "    </tr>\n",
       "    <tr>\n",
       "      <th>3</th>\n",
       "      <td>2539329</td>\n",
       "      <td>1</td>\n",
       "      <td>1</td>\n",
       "      <td>2</td>\n",
       "      <td>8</td>\n",
       "      <td>NaN</td>\n",
       "      <td>True</td>\n",
       "      <td>26088</td>\n",
       "      <td>4</td>\n",
       "      <td>0</td>\n",
       "      <td>...</td>\n",
       "      <td>10</td>\n",
       "      <td>New customer</td>\n",
       "      <td>Low spender</td>\n",
       "      <td>Regular customer</td>\n",
       "      <td>Female</td>\n",
       "      <td>Alabama</td>\n",
       "      <td>31</td>\n",
       "      <td>2019-02-17</td>\n",
       "      <td>3</td>\n",
       "      <td>40423</td>\n",
       "    </tr>\n",
       "    <tr>\n",
       "      <th>4</th>\n",
       "      <td>2539329</td>\n",
       "      <td>1</td>\n",
       "      <td>1</td>\n",
       "      <td>2</td>\n",
       "      <td>8</td>\n",
       "      <td>NaN</td>\n",
       "      <td>True</td>\n",
       "      <td>26405</td>\n",
       "      <td>5</td>\n",
       "      <td>0</td>\n",
       "      <td>...</td>\n",
       "      <td>10</td>\n",
       "      <td>New customer</td>\n",
       "      <td>Low spender</td>\n",
       "      <td>Regular customer</td>\n",
       "      <td>Female</td>\n",
       "      <td>Alabama</td>\n",
       "      <td>31</td>\n",
       "      <td>2019-02-17</td>\n",
       "      <td>3</td>\n",
       "      <td>40423</td>\n",
       "    </tr>\n",
       "  </tbody>\n",
       "</table>\n",
       "<p>5 rows × 29 columns</p>\n",
       "</div>"
      ],
      "text/plain": [
       "   order_id  user_id  order_number  orders_day_of_week  order_hour_of_day  \\\n",
       "0   2539329        1             1                   2                  8   \n",
       "1   2539329        1             1                   2                  8   \n",
       "2   2539329        1             1                   2                  8   \n",
       "3   2539329        1             1                   2                  8   \n",
       "4   2539329        1             1                   2                  8   \n",
       "\n",
       "   days_between_orders  new_customer  product_id  add_to_cart_order  \\\n",
       "0                  NaN          True         196                  1   \n",
       "1                  NaN          True       14084                  2   \n",
       "2                  NaN          True       12427                  3   \n",
       "3                  NaN          True       26088                  4   \n",
       "4                  NaN          True       26405                  5   \n",
       "\n",
       "   reordered  ... max_order  loyalty_flag  spending_flag    frequency_flag  \\\n",
       "0          0  ...        10  New customer    Low spender  Regular customer   \n",
       "1          0  ...        10  New customer    Low spender  Regular customer   \n",
       "2          0  ...        10  New customer    Low spender  Regular customer   \n",
       "3          0  ...        10  New customer    Low spender  Regular customer   \n",
       "4          0  ...        10  New customer    Low spender  Regular customer   \n",
       "\n",
       "   gender    state age date_joined household_size  income  \n",
       "0  Female  Alabama  31  2019-02-17              3   40423  \n",
       "1  Female  Alabama  31  2019-02-17              3   40423  \n",
       "2  Female  Alabama  31  2019-02-17              3   40423  \n",
       "3  Female  Alabama  31  2019-02-17              3   40423  \n",
       "4  Female  Alabama  31  2019-02-17              3   40423  \n",
       "\n",
       "[5 rows x 29 columns]"
      ]
     },
     "execution_count": 28,
     "metadata": {},
     "output_type": "execute_result"
    }
   ],
   "source": [
    "#inspect merged dataframe with head() function\n",
    "df_merged.head()"
   ]
  },
  {
   "cell_type": "markdown",
   "id": "7f81c1df-c563-4167-bd63-e67d61d81637",
   "metadata": {},
   "source": [
    "Looks good, we can export."
   ]
  },
  {
   "cell_type": "code",
   "execution_count": 29,
   "id": "34734609-7497-42b2-9394-e5b4b93fb10b",
   "metadata": {},
   "outputs": [],
   "source": [
    "# export merged dataframe as pickle file\n",
    "df_merged.to_pickle(os.path.join(path, '02 Data', 'Prepared Data', 'ords_prods_cust.pkl'))"
   ]
  },
  {
   "cell_type": "code",
   "execution_count": null,
   "id": "99d1cfff-0c2c-4fc9-aa22-edc537cda0b7",
   "metadata": {},
   "outputs": [],
   "source": []
  }
 ],
 "metadata": {
  "kernelspec": {
   "display_name": "Python [conda env:base] *",
   "language": "python",
   "name": "conda-base-py"
  },
  "language_info": {
   "codemirror_mode": {
    "name": "ipython",
    "version": 3
   },
   "file_extension": ".py",
   "mimetype": "text/x-python",
   "name": "python",
   "nbconvert_exporter": "python",
   "pygments_lexer": "ipython3",
   "version": "3.12.7"
  }
 },
 "nbformat": 4,
 "nbformat_minor": 5
}
