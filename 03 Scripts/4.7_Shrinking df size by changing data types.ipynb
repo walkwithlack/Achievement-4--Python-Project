{
 "cells": [
  {
   "cell_type": "markdown",
   "id": "1197b022-79ee-41c1-acd8-d31f14c4de52",
   "metadata": {},
   "source": [
    "# 1. Importing libraries and data & shrinking dataframe by changing data types"
   ]
  },
  {
   "cell_type": "code",
   "execution_count": 1,
   "id": "99e1ad2f-7840-4a13-bdae-509626f3d6a3",
   "metadata": {},
   "outputs": [],
   "source": [
    "# import libraries\n",
    "import pandas as pd\n",
    "import numpy as np\n",
    "import os"
   ]
  },
  {
   "cell_type": "code",
   "execution_count": 2,
   "id": "d9a06347-002c-44fc-8164-3b087bf0610f",
   "metadata": {},
   "outputs": [],
   "source": [
    "# assigning path for easier import of data\n",
    "path = r'C:\\Users\\magia\\06-2025 Instacart Basket Analysis'"
   ]
  },
  {
   "cell_type": "code",
   "execution_count": 3,
   "id": "93b01c03-eb64-49c0-ad5c-9a8225e08a54",
   "metadata": {},
   "outputs": [],
   "source": [
    "# importing new data set using path variable\n",
    "df_ords_prods_merge = pd.read_pickle(os.path.join(path, '02 Data', 'Prepared Data', 'ords_prods_merge.pkl'))"
   ]
  },
  {
   "cell_type": "code",
   "execution_count": 4,
   "id": "e36e9a7a-bfd2-4b25-ad7f-96f10fd9779e",
   "metadata": {},
   "outputs": [
    {
     "name": "stdout",
     "output_type": "stream",
     "text": [
      "<class 'pandas.core.frame.DataFrame'>\n",
      "RangeIndex: 32404859 entries, 0 to 32404858\n",
      "Data columns (total 15 columns):\n",
      " #   Column               Dtype   \n",
      "---  ------               -----   \n",
      " 0   order_id             int64   \n",
      " 1   user_id              int64   \n",
      " 2   order_number         int64   \n",
      " 3   orders_day_of_week   int64   \n",
      " 4   order_hour_of_day    int64   \n",
      " 5   days_between_orders  float64 \n",
      " 6   new_customer         bool    \n",
      " 7   product_id           int64   \n",
      " 8   add_to_cart_order    int64   \n",
      " 9   reordered            int64   \n",
      " 10  product_name         object  \n",
      " 11  aisle_id             int64   \n",
      " 12  department_id        int64   \n",
      " 13  prices               float64 \n",
      " 14  _merge               category\n",
      "dtypes: bool(1), category(1), float64(2), int64(10), object(1)\n",
      "memory usage: 3.2+ GB\n"
     ]
    }
   ],
   "source": [
    "df_ords_prods_merge.info()"
   ]
  },
  {
   "cell_type": "code",
   "execution_count": 5,
   "id": "224520d5-83e8-49a5-b756-8b3e8f347e33",
   "metadata": {},
   "outputs": [
    {
     "data": {
      "text/html": [
       "<div>\n",
       "<style scoped>\n",
       "    .dataframe tbody tr th:only-of-type {\n",
       "        vertical-align: middle;\n",
       "    }\n",
       "\n",
       "    .dataframe tbody tr th {\n",
       "        vertical-align: top;\n",
       "    }\n",
       "\n",
       "    .dataframe thead th {\n",
       "        text-align: right;\n",
       "    }\n",
       "</style>\n",
       "<table border=\"1\" class=\"dataframe\">\n",
       "  <thead>\n",
       "    <tr style=\"text-align: right;\">\n",
       "      <th></th>\n",
       "      <th>order_id</th>\n",
       "      <th>user_id</th>\n",
       "      <th>order_number</th>\n",
       "      <th>orders_day_of_week</th>\n",
       "      <th>order_hour_of_day</th>\n",
       "      <th>days_between_orders</th>\n",
       "      <th>product_id</th>\n",
       "      <th>add_to_cart_order</th>\n",
       "      <th>reordered</th>\n",
       "      <th>aisle_id</th>\n",
       "      <th>department_id</th>\n",
       "      <th>prices</th>\n",
       "    </tr>\n",
       "  </thead>\n",
       "  <tbody>\n",
       "    <tr>\n",
       "      <th>count</th>\n",
       "      <td>3.240486e+07</td>\n",
       "      <td>3.240486e+07</td>\n",
       "      <td>3.240486e+07</td>\n",
       "      <td>3.240486e+07</td>\n",
       "      <td>3.240486e+07</td>\n",
       "      <td>3.032876e+07</td>\n",
       "      <td>3.240486e+07</td>\n",
       "      <td>3.240486e+07</td>\n",
       "      <td>3.240486e+07</td>\n",
       "      <td>3.240486e+07</td>\n",
       "      <td>3.240486e+07</td>\n",
       "      <td>3.240486e+07</td>\n",
       "    </tr>\n",
       "    <tr>\n",
       "      <th>mean</th>\n",
       "      <td>1.710745e+06</td>\n",
       "      <td>1.029372e+05</td>\n",
       "      <td>1.714230e+01</td>\n",
       "      <td>2.738867e+00</td>\n",
       "      <td>1.342515e+01</td>\n",
       "      <td>1.110408e+01</td>\n",
       "      <td>2.559866e+04</td>\n",
       "      <td>8.352547e+00</td>\n",
       "      <td>5.895873e-01</td>\n",
       "      <td>7.119612e+01</td>\n",
       "      <td>9.919792e+00</td>\n",
       "      <td>1.198023e+01</td>\n",
       "    </tr>\n",
       "    <tr>\n",
       "      <th>std</th>\n",
       "      <td>9.872988e+05</td>\n",
       "      <td>5.946610e+04</td>\n",
       "      <td>1.753532e+01</td>\n",
       "      <td>2.090077e+00</td>\n",
       "      <td>4.246380e+00</td>\n",
       "      <td>8.779064e+00</td>\n",
       "      <td>1.408400e+04</td>\n",
       "      <td>7.127071e+00</td>\n",
       "      <td>4.919087e-01</td>\n",
       "      <td>3.821139e+01</td>\n",
       "      <td>6.281485e+00</td>\n",
       "      <td>4.956554e+02</td>\n",
       "    </tr>\n",
       "    <tr>\n",
       "      <th>min</th>\n",
       "      <td>2.000000e+00</td>\n",
       "      <td>1.000000e+00</td>\n",
       "      <td>1.000000e+00</td>\n",
       "      <td>0.000000e+00</td>\n",
       "      <td>0.000000e+00</td>\n",
       "      <td>0.000000e+00</td>\n",
       "      <td>1.000000e+00</td>\n",
       "      <td>1.000000e+00</td>\n",
       "      <td>0.000000e+00</td>\n",
       "      <td>1.000000e+00</td>\n",
       "      <td>1.000000e+00</td>\n",
       "      <td>1.000000e+00</td>\n",
       "    </tr>\n",
       "    <tr>\n",
       "      <th>25%</th>\n",
       "      <td>8.559470e+05</td>\n",
       "      <td>5.142200e+04</td>\n",
       "      <td>5.000000e+00</td>\n",
       "      <td>1.000000e+00</td>\n",
       "      <td>1.000000e+01</td>\n",
       "      <td>5.000000e+00</td>\n",
       "      <td>1.354400e+04</td>\n",
       "      <td>3.000000e+00</td>\n",
       "      <td>0.000000e+00</td>\n",
       "      <td>3.100000e+01</td>\n",
       "      <td>4.000000e+00</td>\n",
       "      <td>4.200000e+00</td>\n",
       "    </tr>\n",
       "    <tr>\n",
       "      <th>50%</th>\n",
       "      <td>1.711049e+06</td>\n",
       "      <td>1.026160e+05</td>\n",
       "      <td>1.100000e+01</td>\n",
       "      <td>3.000000e+00</td>\n",
       "      <td>1.300000e+01</td>\n",
       "      <td>8.000000e+00</td>\n",
       "      <td>2.530200e+04</td>\n",
       "      <td>6.000000e+00</td>\n",
       "      <td>1.000000e+00</td>\n",
       "      <td>8.300000e+01</td>\n",
       "      <td>9.000000e+00</td>\n",
       "      <td>7.400000e+00</td>\n",
       "    </tr>\n",
       "    <tr>\n",
       "      <th>75%</th>\n",
       "      <td>2.565499e+06</td>\n",
       "      <td>1.543890e+05</td>\n",
       "      <td>2.400000e+01</td>\n",
       "      <td>5.000000e+00</td>\n",
       "      <td>1.600000e+01</td>\n",
       "      <td>1.500000e+01</td>\n",
       "      <td>3.794700e+04</td>\n",
       "      <td>1.100000e+01</td>\n",
       "      <td>1.000000e+00</td>\n",
       "      <td>1.070000e+02</td>\n",
       "      <td>1.600000e+01</td>\n",
       "      <td>1.130000e+01</td>\n",
       "    </tr>\n",
       "    <tr>\n",
       "      <th>max</th>\n",
       "      <td>3.421083e+06</td>\n",
       "      <td>2.062090e+05</td>\n",
       "      <td>9.900000e+01</td>\n",
       "      <td>6.000000e+00</td>\n",
       "      <td>2.300000e+01</td>\n",
       "      <td>3.000000e+01</td>\n",
       "      <td>4.968800e+04</td>\n",
       "      <td>1.450000e+02</td>\n",
       "      <td>1.000000e+00</td>\n",
       "      <td>1.340000e+02</td>\n",
       "      <td>2.100000e+01</td>\n",
       "      <td>9.999900e+04</td>\n",
       "    </tr>\n",
       "  </tbody>\n",
       "</table>\n",
       "</div>"
      ],
      "text/plain": [
       "           order_id       user_id  order_number  orders_day_of_week  \\\n",
       "count  3.240486e+07  3.240486e+07  3.240486e+07        3.240486e+07   \n",
       "mean   1.710745e+06  1.029372e+05  1.714230e+01        2.738867e+00   \n",
       "std    9.872988e+05  5.946610e+04  1.753532e+01        2.090077e+00   \n",
       "min    2.000000e+00  1.000000e+00  1.000000e+00        0.000000e+00   \n",
       "25%    8.559470e+05  5.142200e+04  5.000000e+00        1.000000e+00   \n",
       "50%    1.711049e+06  1.026160e+05  1.100000e+01        3.000000e+00   \n",
       "75%    2.565499e+06  1.543890e+05  2.400000e+01        5.000000e+00   \n",
       "max    3.421083e+06  2.062090e+05  9.900000e+01        6.000000e+00   \n",
       "\n",
       "       order_hour_of_day  days_between_orders    product_id  \\\n",
       "count       3.240486e+07         3.032876e+07  3.240486e+07   \n",
       "mean        1.342515e+01         1.110408e+01  2.559866e+04   \n",
       "std         4.246380e+00         8.779064e+00  1.408400e+04   \n",
       "min         0.000000e+00         0.000000e+00  1.000000e+00   \n",
       "25%         1.000000e+01         5.000000e+00  1.354400e+04   \n",
       "50%         1.300000e+01         8.000000e+00  2.530200e+04   \n",
       "75%         1.600000e+01         1.500000e+01  3.794700e+04   \n",
       "max         2.300000e+01         3.000000e+01  4.968800e+04   \n",
       "\n",
       "       add_to_cart_order     reordered      aisle_id  department_id  \\\n",
       "count       3.240486e+07  3.240486e+07  3.240486e+07   3.240486e+07   \n",
       "mean        8.352547e+00  5.895873e-01  7.119612e+01   9.919792e+00   \n",
       "std         7.127071e+00  4.919087e-01  3.821139e+01   6.281485e+00   \n",
       "min         1.000000e+00  0.000000e+00  1.000000e+00   1.000000e+00   \n",
       "25%         3.000000e+00  0.000000e+00  3.100000e+01   4.000000e+00   \n",
       "50%         6.000000e+00  1.000000e+00  8.300000e+01   9.000000e+00   \n",
       "75%         1.100000e+01  1.000000e+00  1.070000e+02   1.600000e+01   \n",
       "max         1.450000e+02  1.000000e+00  1.340000e+02   2.100000e+01   \n",
       "\n",
       "             prices  \n",
       "count  3.240486e+07  \n",
       "mean   1.198023e+01  \n",
       "std    4.956554e+02  \n",
       "min    1.000000e+00  \n",
       "25%    4.200000e+00  \n",
       "50%    7.400000e+00  \n",
       "75%    1.130000e+01  \n",
       "max    9.999900e+04  "
      ]
     },
     "execution_count": 5,
     "metadata": {},
     "output_type": "execute_result"
    }
   ],
   "source": [
    "df_ords_prods_merge.describe()"
   ]
  },
  {
   "cell_type": "code",
   "execution_count": 6,
   "id": "3b1c2b78-227f-4e60-baed-f68ca947c477",
   "metadata": {},
   "outputs": [],
   "source": [
    "# shrinking dataframe size by changing data types\n",
    "df_ords_prods_merge['order_id'] = df_ords_prods_merge['order_id'].astype('int32')\n",
    "df_ords_prods_merge['user_id'] = df_ords_prods_merge['user_id'].astype('int32')\n",
    "df_ords_prods_merge['product_id'] = df_ords_prods_merge['product_id'].astype('int32')\n",
    "df_ords_prods_merge['add_to_cart_order'] = df_ords_prods_merge['add_to_cart_order'].astype('int32')\n",
    "df_ords_prods_merge['order_number'] = df_ords_prods_merge['order_number'].astype('int8')\n",
    "df_ords_prods_merge['orders_day_of_week'] = df_ords_prods_merge['orders_day_of_week'].astype('int8')\n",
    "df_ords_prods_merge['order_hour_of_day'] = df_ords_prods_merge['order_hour_of_day'].astype('int8')\n",
    "df_ords_prods_merge['reordered'] = df_ords_prods_merge['reordered'].astype('int8')\n",
    "df_ords_prods_merge['department_id'] = df_ords_prods_merge['department_id'].astype('int8')\n",
    "df_ords_prods_merge['aisle_id'] = df_ords_prods_merge['aisle_id'].astype('int8')\n",
    "df_ords_prods_merge['days_between_orders'] = df_ords_prods_merge['days_between_orders'].astype('float32')\n",
    "df_ords_prods_merge['prices'] = df_ords_prods_merge['prices'].astype('float32')"
   ]
  },
  {
   "cell_type": "code",
   "execution_count": 7,
   "id": "94a94f86-6c96-475c-baf9-b3137123ee2f",
   "metadata": {},
   "outputs": [
    {
     "name": "stdout",
     "output_type": "stream",
     "text": [
      "<class 'pandas.core.frame.DataFrame'>\n",
      "RangeIndex: 32404859 entries, 0 to 32404858\n",
      "Data columns (total 15 columns):\n",
      " #   Column               Dtype   \n",
      "---  ------               -----   \n",
      " 0   order_id             int32   \n",
      " 1   user_id              int32   \n",
      " 2   order_number         int8    \n",
      " 3   orders_day_of_week   int8    \n",
      " 4   order_hour_of_day    int8    \n",
      " 5   days_between_orders  float32 \n",
      " 6   new_customer         bool    \n",
      " 7   product_id           int32   \n",
      " 8   add_to_cart_order    int32   \n",
      " 9   reordered            int8    \n",
      " 10  product_name         object  \n",
      " 11  aisle_id             int8    \n",
      " 12  department_id        int8    \n",
      " 13  prices               float32 \n",
      " 14  _merge               category\n",
      "dtypes: bool(1), category(1), float32(2), int32(4), int8(6), object(1)\n",
      "memory usage: 1.2+ GB\n"
     ]
    }
   ],
   "source": [
    "# checking new size\n",
    "df_ords_prods_merge.info()"
   ]
  },
  {
   "cell_type": "markdown",
   "id": "b58f23e2-67b7-4832-8369-5507555d0310",
   "metadata": {},
   "source": [
    "# 2. Deriving New Column price_label with IF statements"
   ]
  },
  {
   "cell_type": "code",
   "execution_count": 8,
   "id": "223868bb-6328-4cf7-a798-134dd2bfa5ca",
   "metadata": {},
   "outputs": [],
   "source": [
    "# creating subset with first 1 million rows in the dataframe before creating new variables\n",
    "df = df_ords_prods_merge[:1000000]"
   ]
  },
  {
   "cell_type": "code",
   "execution_count": 9,
   "id": "fc7ab77c-c710-4fbf-9ed7-20923740d3e6",
   "metadata": {},
   "outputs": [],
   "source": [
    "# creating price_label function\n",
    "def price_label(row):\n",
    "\n",
    "  if row['prices'] <= 5:\n",
    "    return 'Low-range product'\n",
    "  elif (row['prices'] > 5) and (row['prices'] <= 15):\n",
    "    return 'Mid-range product'\n",
    "  elif row['prices'] > 15:\n",
    "    return 'High range'\n",
    "  else: return np.nan"
   ]
  },
  {
   "cell_type": "code",
   "execution_count": 10,
   "id": "cfb72c23-09e8-45d8-a62a-511ba4e2afc3",
   "metadata": {},
   "outputs": [
    {
     "name": "stderr",
     "output_type": "stream",
     "text": [
      "C:\\Users\\magia\\AppData\\Local\\Temp\\ipykernel_2824\\902492192.py:2: SettingWithCopyWarning: \n",
      "A value is trying to be set on a copy of a slice from a DataFrame.\n",
      "Try using .loc[row_indexer,col_indexer] = value instead\n",
      "\n",
      "See the caveats in the documentation: https://pandas.pydata.org/pandas-docs/stable/user_guide/indexing.html#returning-a-view-versus-a-copy\n",
      "  df['price_range'] = df.apply(price_label, axis=1)\n"
     ]
    }
   ],
   "source": [
    "# Apply the function\n",
    "df['price_range'] = df.apply(price_label, axis=1)"
   ]
  },
  {
   "cell_type": "code",
   "execution_count": 11,
   "id": "a227d92f-a575-4b84-ba05-6466c5dec1b3",
   "metadata": {},
   "outputs": [
    {
     "data": {
      "text/plain": [
       "price_range\n",
       "Mid-range product    673183\n",
       "Low-range product    314392\n",
       "High range            12425\n",
       "Name: count, dtype: int64"
      ]
     },
     "execution_count": 11,
     "metadata": {},
     "output_type": "execute_result"
    }
   ],
   "source": [
    "df['price_range'].value_counts(dropna = False)"
   ]
  },
  {
   "cell_type": "code",
   "execution_count": 12,
   "id": "e75ac071-7fc2-459f-86f4-c47fa554020b",
   "metadata": {},
   "outputs": [
    {
     "data": {
      "text/plain": [
       "99999.0"
      ]
     },
     "execution_count": 12,
     "metadata": {},
     "output_type": "execute_result"
    }
   ],
   "source": [
    "# checking highest prices within subset\n",
    "df['prices'].max()"
   ]
  },
  {
   "cell_type": "markdown",
   "id": "03756f1a-4d17-47f9-a29f-1810f0eeb4cd",
   "metadata": {},
   "source": [
    "This looks like an error in our data. There can't possibly be an item in our supermarket that costs almost 100k!"
   ]
  },
  {
   "cell_type": "code",
   "execution_count": 13,
   "id": "4a9be66d-6cc8-4df8-8d1b-236911d939d1",
   "metadata": {},
   "outputs": [
    {
     "data": {
      "text/html": [
       "<div>\n",
       "<style scoped>\n",
       "    .dataframe tbody tr th:only-of-type {\n",
       "        vertical-align: middle;\n",
       "    }\n",
       "\n",
       "    .dataframe tbody tr th {\n",
       "        vertical-align: top;\n",
       "    }\n",
       "\n",
       "    .dataframe thead th {\n",
       "        text-align: right;\n",
       "    }\n",
       "</style>\n",
       "<table border=\"1\" class=\"dataframe\">\n",
       "  <thead>\n",
       "    <tr style=\"text-align: right;\">\n",
       "      <th></th>\n",
       "      <th>product_name</th>\n",
       "      <th>prices</th>\n",
       "    </tr>\n",
       "  </thead>\n",
       "  <tbody>\n",
       "    <tr>\n",
       "      <th>499119</th>\n",
       "      <td>2 % Reduced Fat  Milk</td>\n",
       "      <td>99999.0</td>\n",
       "    </tr>\n",
       "    <tr>\n",
       "      <th>499141</th>\n",
       "      <td>2 % Reduced Fat  Milk</td>\n",
       "      <td>99999.0</td>\n",
       "    </tr>\n",
       "    <tr>\n",
       "      <th>767485</th>\n",
       "      <td>2 % Reduced Fat  Milk</td>\n",
       "      <td>99999.0</td>\n",
       "    </tr>\n",
       "    <tr>\n",
       "      <th>128924</th>\n",
       "      <td>2 % Reduced Fat  Milk</td>\n",
       "      <td>99999.0</td>\n",
       "    </tr>\n",
       "    <tr>\n",
       "      <th>284229</th>\n",
       "      <td>2 % Reduced Fat  Milk</td>\n",
       "      <td>99999.0</td>\n",
       "    </tr>\n",
       "    <tr>\n",
       "      <th>499180</th>\n",
       "      <td>2 % Reduced Fat  Milk</td>\n",
       "      <td>99999.0</td>\n",
       "    </tr>\n",
       "    <tr>\n",
       "      <th>128911</th>\n",
       "      <td>2 % Reduced Fat  Milk</td>\n",
       "      <td>99999.0</td>\n",
       "    </tr>\n",
       "    <tr>\n",
       "      <th>284252</th>\n",
       "      <td>2 % Reduced Fat  Milk</td>\n",
       "      <td>99999.0</td>\n",
       "    </tr>\n",
       "    <tr>\n",
       "      <th>767471</th>\n",
       "      <td>2 % Reduced Fat  Milk</td>\n",
       "      <td>99999.0</td>\n",
       "    </tr>\n",
       "    <tr>\n",
       "      <th>499158</th>\n",
       "      <td>2 % Reduced Fat  Milk</td>\n",
       "      <td>99999.0</td>\n",
       "    </tr>\n",
       "  </tbody>\n",
       "</table>\n",
       "</div>"
      ],
      "text/plain": [
       "                 product_name   prices\n",
       "499119  2 % Reduced Fat  Milk  99999.0\n",
       "499141  2 % Reduced Fat  Milk  99999.0\n",
       "767485  2 % Reduced Fat  Milk  99999.0\n",
       "128924  2 % Reduced Fat  Milk  99999.0\n",
       "284229  2 % Reduced Fat  Milk  99999.0\n",
       "499180  2 % Reduced Fat  Milk  99999.0\n",
       "128911  2 % Reduced Fat  Milk  99999.0\n",
       "284252  2 % Reduced Fat  Milk  99999.0\n",
       "767471  2 % Reduced Fat  Milk  99999.0\n",
       "499158  2 % Reduced Fat  Milk  99999.0"
      ]
     },
     "execution_count": 13,
     "metadata": {},
     "output_type": "execute_result"
    }
   ],
   "source": [
    "# Sort by prices in descending order and show top 10 rows\n",
    "df.sort_values(by='prices', ascending=False).head(10)[['product_name', 'prices']]\n"
   ]
  },
  {
   "cell_type": "code",
   "execution_count": 14,
   "id": "1ec54e0f-c07d-4435-8e8e-6ec07f76118a",
   "metadata": {},
   "outputs": [
    {
     "data": {
      "text/plain": [
       "(698, 15)"
      ]
     },
     "execution_count": 14,
     "metadata": {},
     "output_type": "execute_result"
    }
   ],
   "source": [
    "# Check how many 99999.0 prices existed before float conversion\n",
    "df_ords_prods_merge[df_ords_prods_merge['prices'] == 99999.0].shape\n"
   ]
  },
  {
   "cell_type": "code",
   "execution_count": 15,
   "id": "f9d4d04f-5e83-4526-99f7-e3f0b08f3d7d",
   "metadata": {},
   "outputs": [],
   "source": [
    "# import cleaned products file to check whether mistake was already there\n",
    "df_prods = pd.read_csv(os.path.join(path, '02 Data', 'Prepared Data', 'products_checked.csv'), index_col=False)"
   ]
  },
  {
   "cell_type": "code",
   "execution_count": 16,
   "id": "70929f4d-6205-4006-9596-0fddd6b2cd61",
   "metadata": {},
   "outputs": [
    {
     "data": {
      "text/plain": [
       "(1, 6)"
      ]
     },
     "execution_count": 16,
     "metadata": {},
     "output_type": "execute_result"
    }
   ],
   "source": [
    "df_prods[df_prods['prices'] == 99999.0].shape"
   ]
  },
  {
   "cell_type": "code",
   "execution_count": 17,
   "id": "942ed315-6b3c-4d28-9814-309f9a396a99",
   "metadata": {},
   "outputs": [
    {
     "data": {
      "text/html": [
       "<div>\n",
       "<style scoped>\n",
       "    .dataframe tbody tr th:only-of-type {\n",
       "        vertical-align: middle;\n",
       "    }\n",
       "\n",
       "    .dataframe tbody tr th {\n",
       "        vertical-align: top;\n",
       "    }\n",
       "\n",
       "    .dataframe thead th {\n",
       "        text-align: right;\n",
       "    }\n",
       "</style>\n",
       "<table border=\"1\" class=\"dataframe\">\n",
       "  <thead>\n",
       "    <tr style=\"text-align: right;\">\n",
       "      <th></th>\n",
       "      <th>Unnamed: 0</th>\n",
       "      <th>product_id</th>\n",
       "      <th>product_name</th>\n",
       "      <th>aisle_id</th>\n",
       "      <th>department_id</th>\n",
       "      <th>prices</th>\n",
       "    </tr>\n",
       "  </thead>\n",
       "  <tbody>\n",
       "    <tr>\n",
       "      <th>33649</th>\n",
       "      <td>33666</td>\n",
       "      <td>33664</td>\n",
       "      <td>2 % Reduced Fat  Milk</td>\n",
       "      <td>84</td>\n",
       "      <td>16</td>\n",
       "      <td>99999.0</td>\n",
       "    </tr>\n",
       "  </tbody>\n",
       "</table>\n",
       "</div>"
      ],
      "text/plain": [
       "       Unnamed: 0  product_id           product_name  aisle_id  department_id  \\\n",
       "33649       33666       33664  2 % Reduced Fat  Milk        84             16   \n",
       "\n",
       "        prices  \n",
       "33649  99999.0  "
      ]
     },
     "execution_count": 17,
     "metadata": {},
     "output_type": "execute_result"
    }
   ],
   "source": [
    "df_prods[df_prods['prices'] == 99999.0]"
   ]
  },
  {
   "cell_type": "code",
   "execution_count": 18,
   "id": "23cbb719-5480-4bc2-bdb5-f39ef3d402ba",
   "metadata": {},
   "outputs": [],
   "source": [
    "# import raw products file to check whether mistake was already there\n",
    "df_prods_raw = pd.read_csv(os.path.join(path, '02 Data', 'Original Data', 'products.csv'), index_col=False)"
   ]
  },
  {
   "cell_type": "code",
   "execution_count": 19,
   "id": "372e0466-83fa-49b4-afeb-aa55d44057a1",
   "metadata": {},
   "outputs": [
    {
     "data": {
      "text/plain": [
       "(1, 5)"
      ]
     },
     "execution_count": 19,
     "metadata": {},
     "output_type": "execute_result"
    }
   ],
   "source": [
    "df_prods_raw[df_prods_raw['prices'] == 99999.0].shape"
   ]
  },
  {
   "cell_type": "code",
   "execution_count": 20,
   "id": "dc0b40fd-78af-429f-8434-d8de986f6825",
   "metadata": {},
   "outputs": [
    {
     "data": {
      "text/html": [
       "<div>\n",
       "<style scoped>\n",
       "    .dataframe tbody tr th:only-of-type {\n",
       "        vertical-align: middle;\n",
       "    }\n",
       "\n",
       "    .dataframe tbody tr th {\n",
       "        vertical-align: top;\n",
       "    }\n",
       "\n",
       "    .dataframe thead th {\n",
       "        text-align: right;\n",
       "    }\n",
       "</style>\n",
       "<table border=\"1\" class=\"dataframe\">\n",
       "  <thead>\n",
       "    <tr style=\"text-align: right;\">\n",
       "      <th></th>\n",
       "      <th>product_id</th>\n",
       "      <th>product_name</th>\n",
       "      <th>aisle_id</th>\n",
       "      <th>department_id</th>\n",
       "      <th>prices</th>\n",
       "    </tr>\n",
       "  </thead>\n",
       "  <tbody>\n",
       "    <tr>\n",
       "      <th>33666</th>\n",
       "      <td>33664</td>\n",
       "      <td>2 % Reduced Fat  Milk</td>\n",
       "      <td>84</td>\n",
       "      <td>16</td>\n",
       "      <td>99999.0</td>\n",
       "    </tr>\n",
       "  </tbody>\n",
       "</table>\n",
       "</div>"
      ],
      "text/plain": [
       "       product_id           product_name  aisle_id  department_id   prices\n",
       "33666       33664  2 % Reduced Fat  Milk        84             16  99999.0"
      ]
     },
     "execution_count": 20,
     "metadata": {},
     "output_type": "execute_result"
    }
   ],
   "source": [
    "df_prods_raw[df_prods_raw['prices'] == 99999.0]"
   ]
  },
  {
   "cell_type": "markdown",
   "id": "4d3461c2-d4ee-4717-bdbe-5fc9a1e42a86",
   "metadata": {},
   "source": [
    "Ok, so now we know that the price issue comes already from the raw data (which we have not cleaned well enough) and it's not coming from a mistake during data mergers."
   ]
  },
  {
   "cell_type": "code",
   "execution_count": 21,
   "id": "627bfb2c-b947-47eb-9474-5aac0c42e555",
   "metadata": {},
   "outputs": [
    {
     "name": "stdout",
     "output_type": "stream",
     "text": [
      "        order_id  user_id  order_number  orders_day_of_week  \\\n",
      "128911    183964      873             3                   0   \n",
      "128924   1851256      873             4                   6   \n",
      "284218   1915696     1893             1                   5   \n",
      "284229   2763293     1893             2                   4   \n",
      "284252   2564805     1893             4                   1   \n",
      "499076    949012     3339             1                   1   \n",
      "499119    420057     3339             2                   0   \n",
      "499141   1511997     3339             3                   1   \n",
      "499158   1153448     3339             4                   4   \n",
      "499180   2669259     3339             5                   4   \n",
      "527458    965345     3531            27                   2   \n",
      "767471   2291230     5034             6                   1   \n",
      "767485   2324832     5034             7                   6   \n",
      "953246    323856     6175            37                   2   \n",
      "960509    842052     6222            10                   1   \n",
      "\n",
      "        order_hour_of_day  days_between_orders  new_customer  product_id  \\\n",
      "128911                 10                  7.0         False       33664   \n",
      "128924                 12                 13.0         False       33664   \n",
      "284218                 17                  NaN          True       33664   \n",
      "284229                 16                 13.0         False       33664   \n",
      "284252                 17                 30.0         False       33664   \n",
      "499076                 14                  NaN          True       33664   \n",
      "499119                 11                 13.0         False       33664   \n",
      "499141                 18                  8.0         False       33664   \n",
      "499158                 16                 10.0         False       33664   \n",
      "499180                 14                 21.0         False       33664   \n",
      "527458                 19                  8.0         False       33664   \n",
      "767471                 17                 30.0         False       33664   \n",
      "767485                 11                 30.0         False       33664   \n",
      "953246                  9                  6.0         False       33664   \n",
      "960509                 18                 17.0         False       33664   \n",
      "\n",
      "        add_to_cart_order  reordered           product_name  aisle_id  \\\n",
      "128911                 11          0  2 % Reduced Fat  Milk        84   \n",
      "128924                  8          1  2 % Reduced Fat  Milk        84   \n",
      "284218                 10          0  2 % Reduced Fat  Milk        84   \n",
      "284229                  6          1  2 % Reduced Fat  Milk        84   \n",
      "284252                  3          1  2 % Reduced Fat  Milk        84   \n",
      "499076                  8          0  2 % Reduced Fat  Milk        84   \n",
      "499119                 29          1  2 % Reduced Fat  Milk        84   \n",
      "499141                 14          1  2 % Reduced Fat  Milk        84   \n",
      "499158                  1          1  2 % Reduced Fat  Milk        84   \n",
      "499180                  6          1  2 % Reduced Fat  Milk        84   \n",
      "527458                  2          0  2 % Reduced Fat  Milk        84   \n",
      "767471                  3          0  2 % Reduced Fat  Milk        84   \n",
      "767485                  9          1  2 % Reduced Fat  Milk        84   \n",
      "953246                  6          0  2 % Reduced Fat  Milk        84   \n",
      "960509                  2          0  2 % Reduced Fat  Milk        84   \n",
      "\n",
      "        department_id   prices _merge price_range  \n",
      "128911             16  99999.0   both  High range  \n",
      "128924             16  99999.0   both  High range  \n",
      "284218             16  99999.0   both  High range  \n",
      "284229             16  99999.0   both  High range  \n",
      "284252             16  99999.0   both  High range  \n",
      "499076             16  99999.0   both  High range  \n",
      "499119             16  99999.0   both  High range  \n",
      "499141             16  99999.0   both  High range  \n",
      "499158             16  99999.0   both  High range  \n",
      "499180             16  99999.0   both  High range  \n",
      "527458             16  99999.0   both  High range  \n",
      "767471             16  99999.0   both  High range  \n",
      "767485             16  99999.0   both  High range  \n",
      "953246             16  99999.0   both  High range  \n",
      "960509             16  99999.0   both  High range  \n"
     ]
    }
   ],
   "source": [
    "result = df[df['prices'] == 99999.0]\n",
    "print(result)"
   ]
  },
  {
   "cell_type": "markdown",
   "id": "45011ef3-79de-47c0-84f8-9b4592116227",
   "metadata": {},
   "source": [
    "We cannot just delete the item, it has been ordered numerous times. We need to fix the data otherwise. By imputing a value (mean/median) for milk items?"
   ]
  },
  {
   "cell_type": "markdown",
   "id": "7d72037c-d4f3-4d6d-bd23-c513330bcc93",
   "metadata": {},
   "source": [
    "Fixing price, using price of identical product \"2% Reduced Fat Milk\" (no space between 2 and %)"
   ]
  },
  {
   "cell_type": "code",
   "execution_count": 26,
   "id": "1444de26-e682-472b-b51a-19286b45a7be",
   "metadata": {},
   "outputs": [],
   "source": [
    "df_ords_prods_merge.loc[\n",
    "    (df_ords_prods_merge['product_name'] == '2 % Reduced Fat Milk') &\n",
    "    (df_ords_prods_merge['prices'] == 99999.0),\n",
    "    'prices'\n",
    "] = np.float32(9.2)"
   ]
  },
  {
   "cell_type": "code",
   "execution_count": 32,
   "id": "c90a88fc-c0db-49de-a61a-0ee0ddb818ed",
   "metadata": {},
   "outputs": [],
   "source": [
    "# Recalculate the price labels\n",
    "df_ords_prods_merge['price_range'] = df_ords_prods_merge.apply(price_label, axis=1)"
   ]
  },
  {
   "cell_type": "code",
   "execution_count": 33,
   "id": "3b1dc797-0df7-4b21-9b61-ba88f7ce85f4",
   "metadata": {},
   "outputs": [],
   "source": [
    "# Save the cleaned version\n",
    "df_ords_prods_merge.to_pickle(os.path.join(path, '02 Data', 'Prepared Data', 'ords_prods_merge.pkl'))"
   ]
  },
  {
   "cell_type": "code",
   "execution_count": 34,
   "id": "1978be59-7aad-4849-b767-7c0120a1ddab",
   "metadata": {},
   "outputs": [
    {
     "data": {
      "text/plain": [
       "price_range\n",
       "Mid-range product    673183\n",
       "Low-range product    314392\n",
       "High range            12425\n",
       "Name: count, dtype: int64"
      ]
     },
     "execution_count": 34,
     "metadata": {},
     "output_type": "execute_result"
    }
   ],
   "source": [
    "df['price_range'].value_counts(dropna = False)"
   ]
  },
  {
   "cell_type": "code",
   "execution_count": 35,
   "id": "30dbd1cb-fbb1-4dba-bba3-0bd39f95e50a",
   "metadata": {},
   "outputs": [
    {
     "data": {
      "text/plain": [
       "698"
      ]
     },
     "execution_count": 35,
     "metadata": {},
     "output_type": "execute_result"
    }
   ],
   "source": [
    "(df_ords_prods_merge['prices'] == 99999.0).sum()"
   ]
  },
  {
   "cell_type": "code",
   "execution_count": 36,
   "id": "71a3003c-ba3b-43af-ba21-49fba4bf0fe2",
   "metadata": {},
   "outputs": [
    {
     "data": {
      "text/plain": [
       "price_range\n",
       "Mid-range product    673183\n",
       "Low-range product    314392\n",
       "High range            12425\n",
       "Name: count, dtype: int64"
      ]
     },
     "execution_count": 36,
     "metadata": {},
     "output_type": "execute_result"
    }
   ],
   "source": [
    "df['price_range'].value_counts(dropna = False)"
   ]
  },
  {
   "cell_type": "code",
   "execution_count": 37,
   "id": "379716a0-2771-42c0-aa43-98f5c9e8f88a",
   "metadata": {},
   "outputs": [
    {
     "data": {
      "text/html": [
       "<div>\n",
       "<style scoped>\n",
       "    .dataframe tbody tr th:only-of-type {\n",
       "        vertical-align: middle;\n",
       "    }\n",
       "\n",
       "    .dataframe tbody tr th {\n",
       "        vertical-align: top;\n",
       "    }\n",
       "\n",
       "    .dataframe thead th {\n",
       "        text-align: right;\n",
       "    }\n",
       "</style>\n",
       "<table border=\"1\" class=\"dataframe\">\n",
       "  <thead>\n",
       "    <tr style=\"text-align: right;\">\n",
       "      <th></th>\n",
       "      <th>order_id</th>\n",
       "      <th>user_id</th>\n",
       "      <th>order_number</th>\n",
       "      <th>orders_day_of_week</th>\n",
       "      <th>order_hour_of_day</th>\n",
       "      <th>days_between_orders</th>\n",
       "      <th>new_customer</th>\n",
       "      <th>product_id</th>\n",
       "      <th>add_to_cart_order</th>\n",
       "      <th>reordered</th>\n",
       "      <th>product_name</th>\n",
       "      <th>aisle_id</th>\n",
       "      <th>department_id</th>\n",
       "      <th>prices</th>\n",
       "      <th>_merge</th>\n",
       "      <th>price_range</th>\n",
       "    </tr>\n",
       "  </thead>\n",
       "  <tbody>\n",
       "    <tr>\n",
       "      <th>128911</th>\n",
       "      <td>183964</td>\n",
       "      <td>873</td>\n",
       "      <td>3</td>\n",
       "      <td>0</td>\n",
       "      <td>10</td>\n",
       "      <td>7.0</td>\n",
       "      <td>False</td>\n",
       "      <td>33664</td>\n",
       "      <td>11</td>\n",
       "      <td>0</td>\n",
       "      <td>2 % Reduced Fat  Milk</td>\n",
       "      <td>84</td>\n",
       "      <td>16</td>\n",
       "      <td>99999.0</td>\n",
       "      <td>both</td>\n",
       "      <td>High range</td>\n",
       "    </tr>\n",
       "    <tr>\n",
       "      <th>128924</th>\n",
       "      <td>1851256</td>\n",
       "      <td>873</td>\n",
       "      <td>4</td>\n",
       "      <td>6</td>\n",
       "      <td>12</td>\n",
       "      <td>13.0</td>\n",
       "      <td>False</td>\n",
       "      <td>33664</td>\n",
       "      <td>8</td>\n",
       "      <td>1</td>\n",
       "      <td>2 % Reduced Fat  Milk</td>\n",
       "      <td>84</td>\n",
       "      <td>16</td>\n",
       "      <td>99999.0</td>\n",
       "      <td>both</td>\n",
       "      <td>High range</td>\n",
       "    </tr>\n",
       "    <tr>\n",
       "      <th>284218</th>\n",
       "      <td>1915696</td>\n",
       "      <td>1893</td>\n",
       "      <td>1</td>\n",
       "      <td>5</td>\n",
       "      <td>17</td>\n",
       "      <td>NaN</td>\n",
       "      <td>True</td>\n",
       "      <td>33664</td>\n",
       "      <td>10</td>\n",
       "      <td>0</td>\n",
       "      <td>2 % Reduced Fat  Milk</td>\n",
       "      <td>84</td>\n",
       "      <td>16</td>\n",
       "      <td>99999.0</td>\n",
       "      <td>both</td>\n",
       "      <td>High range</td>\n",
       "    </tr>\n",
       "    <tr>\n",
       "      <th>284229</th>\n",
       "      <td>2763293</td>\n",
       "      <td>1893</td>\n",
       "      <td>2</td>\n",
       "      <td>4</td>\n",
       "      <td>16</td>\n",
       "      <td>13.0</td>\n",
       "      <td>False</td>\n",
       "      <td>33664</td>\n",
       "      <td>6</td>\n",
       "      <td>1</td>\n",
       "      <td>2 % Reduced Fat  Milk</td>\n",
       "      <td>84</td>\n",
       "      <td>16</td>\n",
       "      <td>99999.0</td>\n",
       "      <td>both</td>\n",
       "      <td>High range</td>\n",
       "    </tr>\n",
       "    <tr>\n",
       "      <th>284252</th>\n",
       "      <td>2564805</td>\n",
       "      <td>1893</td>\n",
       "      <td>4</td>\n",
       "      <td>1</td>\n",
       "      <td>17</td>\n",
       "      <td>30.0</td>\n",
       "      <td>False</td>\n",
       "      <td>33664</td>\n",
       "      <td>3</td>\n",
       "      <td>1</td>\n",
       "      <td>2 % Reduced Fat  Milk</td>\n",
       "      <td>84</td>\n",
       "      <td>16</td>\n",
       "      <td>99999.0</td>\n",
       "      <td>both</td>\n",
       "      <td>High range</td>\n",
       "    </tr>\n",
       "    <tr>\n",
       "      <th>...</th>\n",
       "      <td>...</td>\n",
       "      <td>...</td>\n",
       "      <td>...</td>\n",
       "      <td>...</td>\n",
       "      <td>...</td>\n",
       "      <td>...</td>\n",
       "      <td>...</td>\n",
       "      <td>...</td>\n",
       "      <td>...</td>\n",
       "      <td>...</td>\n",
       "      <td>...</td>\n",
       "      <td>...</td>\n",
       "      <td>...</td>\n",
       "      <td>...</td>\n",
       "      <td>...</td>\n",
       "      <td>...</td>\n",
       "    </tr>\n",
       "    <tr>\n",
       "      <th>32079919</th>\n",
       "      <td>2249946</td>\n",
       "      <td>204099</td>\n",
       "      <td>29</td>\n",
       "      <td>0</td>\n",
       "      <td>8</td>\n",
       "      <td>4.0</td>\n",
       "      <td>False</td>\n",
       "      <td>33664</td>\n",
       "      <td>1</td>\n",
       "      <td>0</td>\n",
       "      <td>2 % Reduced Fat  Milk</td>\n",
       "      <td>84</td>\n",
       "      <td>16</td>\n",
       "      <td>99999.0</td>\n",
       "      <td>both</td>\n",
       "      <td>High range</td>\n",
       "    </tr>\n",
       "    <tr>\n",
       "      <th>32079936</th>\n",
       "      <td>2363282</td>\n",
       "      <td>204099</td>\n",
       "      <td>31</td>\n",
       "      <td>0</td>\n",
       "      <td>9</td>\n",
       "      <td>2.0</td>\n",
       "      <td>False</td>\n",
       "      <td>33664</td>\n",
       "      <td>1</td>\n",
       "      <td>1</td>\n",
       "      <td>2 % Reduced Fat  Milk</td>\n",
       "      <td>84</td>\n",
       "      <td>16</td>\n",
       "      <td>99999.0</td>\n",
       "      <td>both</td>\n",
       "      <td>High range</td>\n",
       "    </tr>\n",
       "    <tr>\n",
       "      <th>32125745</th>\n",
       "      <td>3181945</td>\n",
       "      <td>204395</td>\n",
       "      <td>13</td>\n",
       "      <td>3</td>\n",
       "      <td>15</td>\n",
       "      <td>8.0</td>\n",
       "      <td>False</td>\n",
       "      <td>33664</td>\n",
       "      <td>25</td>\n",
       "      <td>0</td>\n",
       "      <td>2 % Reduced Fat  Milk</td>\n",
       "      <td>84</td>\n",
       "      <td>16</td>\n",
       "      <td>99999.0</td>\n",
       "      <td>both</td>\n",
       "      <td>High range</td>\n",
       "    </tr>\n",
       "    <tr>\n",
       "      <th>32255078</th>\n",
       "      <td>2486215</td>\n",
       "      <td>205227</td>\n",
       "      <td>7</td>\n",
       "      <td>3</td>\n",
       "      <td>20</td>\n",
       "      <td>4.0</td>\n",
       "      <td>False</td>\n",
       "      <td>33664</td>\n",
       "      <td>8</td>\n",
       "      <td>0</td>\n",
       "      <td>2 % Reduced Fat  Milk</td>\n",
       "      <td>84</td>\n",
       "      <td>16</td>\n",
       "      <td>99999.0</td>\n",
       "      <td>both</td>\n",
       "      <td>High range</td>\n",
       "    </tr>\n",
       "    <tr>\n",
       "      <th>32255132</th>\n",
       "      <td>2232716</td>\n",
       "      <td>205227</td>\n",
       "      <td>10</td>\n",
       "      <td>0</td>\n",
       "      <td>11</td>\n",
       "      <td>4.0</td>\n",
       "      <td>False</td>\n",
       "      <td>33664</td>\n",
       "      <td>23</td>\n",
       "      <td>1</td>\n",
       "      <td>2 % Reduced Fat  Milk</td>\n",
       "      <td>84</td>\n",
       "      <td>16</td>\n",
       "      <td>99999.0</td>\n",
       "      <td>both</td>\n",
       "      <td>High range</td>\n",
       "    </tr>\n",
       "  </tbody>\n",
       "</table>\n",
       "<p>698 rows × 16 columns</p>\n",
       "</div>"
      ],
      "text/plain": [
       "          order_id  user_id  order_number  orders_day_of_week  \\\n",
       "128911      183964      873             3                   0   \n",
       "128924     1851256      873             4                   6   \n",
       "284218     1915696     1893             1                   5   \n",
       "284229     2763293     1893             2                   4   \n",
       "284252     2564805     1893             4                   1   \n",
       "...            ...      ...           ...                 ...   \n",
       "32079919   2249946   204099            29                   0   \n",
       "32079936   2363282   204099            31                   0   \n",
       "32125745   3181945   204395            13                   3   \n",
       "32255078   2486215   205227             7                   3   \n",
       "32255132   2232716   205227            10                   0   \n",
       "\n",
       "          order_hour_of_day  days_between_orders  new_customer  product_id  \\\n",
       "128911                   10                  7.0         False       33664   \n",
       "128924                   12                 13.0         False       33664   \n",
       "284218                   17                  NaN          True       33664   \n",
       "284229                   16                 13.0         False       33664   \n",
       "284252                   17                 30.0         False       33664   \n",
       "...                     ...                  ...           ...         ...   \n",
       "32079919                  8                  4.0         False       33664   \n",
       "32079936                  9                  2.0         False       33664   \n",
       "32125745                 15                  8.0         False       33664   \n",
       "32255078                 20                  4.0         False       33664   \n",
       "32255132                 11                  4.0         False       33664   \n",
       "\n",
       "          add_to_cart_order  reordered           product_name  aisle_id  \\\n",
       "128911                   11          0  2 % Reduced Fat  Milk        84   \n",
       "128924                    8          1  2 % Reduced Fat  Milk        84   \n",
       "284218                   10          0  2 % Reduced Fat  Milk        84   \n",
       "284229                    6          1  2 % Reduced Fat  Milk        84   \n",
       "284252                    3          1  2 % Reduced Fat  Milk        84   \n",
       "...                     ...        ...                    ...       ...   \n",
       "32079919                  1          0  2 % Reduced Fat  Milk        84   \n",
       "32079936                  1          1  2 % Reduced Fat  Milk        84   \n",
       "32125745                 25          0  2 % Reduced Fat  Milk        84   \n",
       "32255078                  8          0  2 % Reduced Fat  Milk        84   \n",
       "32255132                 23          1  2 % Reduced Fat  Milk        84   \n",
       "\n",
       "          department_id   prices _merge price_range  \n",
       "128911               16  99999.0   both  High range  \n",
       "128924               16  99999.0   both  High range  \n",
       "284218               16  99999.0   both  High range  \n",
       "284229               16  99999.0   both  High range  \n",
       "284252               16  99999.0   both  High range  \n",
       "...                 ...      ...    ...         ...  \n",
       "32079919             16  99999.0   both  High range  \n",
       "32079936             16  99999.0   both  High range  \n",
       "32125745             16  99999.0   both  High range  \n",
       "32255078             16  99999.0   both  High range  \n",
       "32255132             16  99999.0   both  High range  \n",
       "\n",
       "[698 rows x 16 columns]"
      ]
     },
     "execution_count": 37,
     "metadata": {},
     "output_type": "execute_result"
    }
   ],
   "source": [
    "df_ords_prods_merge[df_ords_prods_merge['prices'] == 99999.0]"
   ]
  },
  {
   "cell_type": "code",
   "execution_count": 38,
   "id": "48added2-e2e5-45c4-9756-58621f82e361",
   "metadata": {},
   "outputs": [],
   "source": [
    "df_ords_prods_merge.loc[\n",
    "    (df_ords_prods_merge['product_name'] == '2 % Reduced Fat Milk') &\n",
    "    (df_ords_prods_merge['prices'] == 99999.0),\n",
    "    'prices'\n",
    "] = np.float32(9.2)"
   ]
  },
  {
   "cell_type": "code",
   "execution_count": 39,
   "id": "402f1b80-2451-43cf-b44d-c53417e61db4",
   "metadata": {},
   "outputs": [
    {
     "data": {
      "text/plain": [
       "698"
      ]
     },
     "execution_count": 39,
     "metadata": {},
     "output_type": "execute_result"
    }
   ],
   "source": [
    "(df_ords_prods_merge['prices'] == 99999.0).sum()"
   ]
  },
  {
   "cell_type": "code",
   "execution_count": 40,
   "id": "1a871bfa-23b5-4695-9904-10075448602b",
   "metadata": {},
   "outputs": [],
   "source": [
    "df_ords_prods_merge = df_ords_prods_merge.copy()"
   ]
  },
  {
   "cell_type": "code",
   "execution_count": 41,
   "id": "e6541258-0c40-419a-87e7-8cfda86bee5c",
   "metadata": {},
   "outputs": [],
   "source": [
    "df_ords_prods_merge.loc[\n",
    "    (df_ords_prods_merge['product_name'] == '2 % Reduced Fat Milk') &\n",
    "    (df_ords_prods_merge['prices'] == 99999.0),\n",
    "    'prices'\n",
    "] = np.float32(9.2)"
   ]
  },
  {
   "cell_type": "code",
   "execution_count": 42,
   "id": "8fe0a3a7-b139-40a9-a4ca-f9053c8a9585",
   "metadata": {},
   "outputs": [
    {
     "data": {
      "text/plain": [
       "698"
      ]
     },
     "execution_count": 42,
     "metadata": {},
     "output_type": "execute_result"
    }
   ],
   "source": [
    "(df_ords_prods_merge['prices'] == 99999.0).sum()"
   ]
  },
  {
   "cell_type": "code",
   "execution_count": 43,
   "id": "e48fe293-d07d-412a-b058-8ab89b460dfd",
   "metadata": {},
   "outputs": [],
   "source": [
    "df_ords_prods_merge.loc[df_ords_prods_merge['prices'] == 99999.0, 'prices'] = np.float32(9.2)"
   ]
  },
  {
   "cell_type": "code",
   "execution_count": 44,
   "id": "2298ba42-2712-4ff5-9e00-84b68fb88f0c",
   "metadata": {},
   "outputs": [
    {
     "data": {
      "text/plain": [
       "0"
      ]
     },
     "execution_count": 44,
     "metadata": {},
     "output_type": "execute_result"
    }
   ],
   "source": [
    "(df_ords_prods_merge['prices'] == 99999.0).sum()  # MUST be 0 now"
   ]
  },
  {
   "cell_type": "code",
   "execution_count": 45,
   "id": "536254a9-1ac1-4774-a0e7-75e795018ee2",
   "metadata": {},
   "outputs": [
    {
     "data": {
      "text/plain": [
       "price_range\n",
       "Mid-range product    21861558\n",
       "Low-range product    10126321\n",
       "High range             416980\n",
       "Name: count, dtype: int64"
      ]
     },
     "execution_count": 45,
     "metadata": {},
     "output_type": "execute_result"
    }
   ],
   "source": [
    "df_ords_prods_merge['price_range'] = df_ords_prods_merge.apply(price_label, axis=1)\n",
    "df_ords_prods_merge['price_range'].value_counts(dropna=False)"
   ]
  },
  {
   "cell_type": "code",
   "execution_count": 46,
   "id": "cc5a4b9c-a256-4fe2-9697-58d56b328b79",
   "metadata": {},
   "outputs": [],
   "source": [
    "df_ords_prods_merge.to_pickle(os.path.join(path, '02 Data', 'Prepared Data', 'ords_prods_merge.pkl'))"
   ]
  },
  {
   "cell_type": "code",
   "execution_count": 48,
   "id": "97c8eefd-ede3-45b5-bc0e-bfcc61cfd9c2",
   "metadata": {},
   "outputs": [
    {
     "data": {
      "text/plain": [
       "0"
      ]
     },
     "execution_count": 48,
     "metadata": {},
     "output_type": "execute_result"
    }
   ],
   "source": [
    "(df_ords_prods_merge['prices'] == 99999.0).sum()"
   ]
  },
  {
   "cell_type": "code",
   "execution_count": 49,
   "id": "1103f8a6-e9ef-43bd-900f-e6327798a6ed",
   "metadata": {},
   "outputs": [
    {
     "data": {
      "text/plain": [
       "0           False\n",
       "1           False\n",
       "2           False\n",
       "3           False\n",
       "4           False\n",
       "            ...  \n",
       "32404854    False\n",
       "32404855    False\n",
       "32404856    False\n",
       "32404857    False\n",
       "32404858    False\n",
       "Name: prices, Length: 32404859, dtype: bool"
      ]
     },
     "execution_count": 49,
     "metadata": {},
     "output_type": "execute_result"
    }
   ],
   "source": [
    "df_ords_prods_merge['prices'] == 99999.0"
   ]
  },
  {
   "cell_type": "code",
   "execution_count": 50,
   "id": "67ab988a-dd70-48b9-bd33-c4c1acb6bc43",
   "metadata": {},
   "outputs": [
    {
     "data": {
      "text/plain": [
       "prices\n",
       "15.100000        2422\n",
       "15.200000         494\n",
       "15.300000        7495\n",
       "15.400000        1175\n",
       "15.500000        2325\n",
       "                ...  \n",
       "24.700001        7283\n",
       "24.799999         410\n",
       "24.900000        5781\n",
       "25.000000       13772\n",
       "14900.000000     4429\n",
       "Name: count, Length: 100, dtype: int64"
      ]
     },
     "execution_count": 50,
     "metadata": {},
     "output_type": "execute_result"
    }
   ],
   "source": [
    "df_ords_prods_merge.loc[df_ords_prods_merge['prices'] > 15, 'prices'].value_counts().sort_index()"
   ]
  },
  {
   "cell_type": "code",
   "execution_count": 51,
   "id": "0d54345a-3899-43b7-a6d1-1024d6010f4d",
   "metadata": {},
   "outputs": [
    {
     "data": {
      "text/html": [
       "<div>\n",
       "<style scoped>\n",
       "    .dataframe tbody tr th:only-of-type {\n",
       "        vertical-align: middle;\n",
       "    }\n",
       "\n",
       "    .dataframe tbody tr th {\n",
       "        vertical-align: top;\n",
       "    }\n",
       "\n",
       "    .dataframe thead th {\n",
       "        text-align: right;\n",
       "    }\n",
       "</style>\n",
       "<table border=\"1\" class=\"dataframe\">\n",
       "  <thead>\n",
       "    <tr style=\"text-align: right;\">\n",
       "      <th></th>\n",
       "      <th>product_name</th>\n",
       "      <th>prices</th>\n",
       "    </tr>\n",
       "  </thead>\n",
       "  <tbody>\n",
       "    <tr>\n",
       "      <th>1576</th>\n",
       "      <td>Lowfat 2% Milkfat Cottage Cheese</td>\n",
       "      <td>14900.0</td>\n",
       "    </tr>\n",
       "  </tbody>\n",
       "</table>\n",
       "</div>"
      ],
      "text/plain": [
       "                          product_name   prices\n",
       "1576  Lowfat 2% Milkfat Cottage Cheese  14900.0"
      ]
     },
     "execution_count": 51,
     "metadata": {},
     "output_type": "execute_result"
    }
   ],
   "source": [
    "df_ords_prods_merge[df_ords_prods_merge['prices'] >= 1000][['product_name', 'prices']].drop_duplicates()"
   ]
  },
  {
   "cell_type": "code",
   "execution_count": 52,
   "id": "d1380403-39e8-4158-83a7-cc466933620b",
   "metadata": {},
   "outputs": [
    {
     "data": {
      "text/html": [
       "<div>\n",
       "<style scoped>\n",
       "    .dataframe tbody tr th:only-of-type {\n",
       "        vertical-align: middle;\n",
       "    }\n",
       "\n",
       "    .dataframe tbody tr th {\n",
       "        vertical-align: top;\n",
       "    }\n",
       "\n",
       "    .dataframe thead th {\n",
       "        text-align: right;\n",
       "    }\n",
       "</style>\n",
       "<table border=\"1\" class=\"dataframe\">\n",
       "  <thead>\n",
       "    <tr style=\"text-align: right;\">\n",
       "      <th></th>\n",
       "      <th>product_name</th>\n",
       "      <th>prices</th>\n",
       "    </tr>\n",
       "  </thead>\n",
       "  <tbody>\n",
       "    <tr>\n",
       "      <th>17797984</th>\n",
       "      <td>Cottage Cheese 4% Milkfat Minimum</td>\n",
       "      <td>1.1</td>\n",
       "    </tr>\n",
       "    <tr>\n",
       "      <th>31307471</th>\n",
       "      <td>Small Curd Cottage Cheese</td>\n",
       "      <td>1.3</td>\n",
       "    </tr>\n",
       "    <tr>\n",
       "      <th>22571376</th>\n",
       "      <td>Small Curd Cottage Cheese 4%</td>\n",
       "      <td>1.3</td>\n",
       "    </tr>\n",
       "    <tr>\n",
       "      <th>17116924</th>\n",
       "      <td>Cottage Cheese 22 Oz</td>\n",
       "      <td>1.6</td>\n",
       "    </tr>\n",
       "    <tr>\n",
       "      <th>8388645</th>\n",
       "      <td>4% Milkfat Min. Small Curd Cottage Cheese</td>\n",
       "      <td>1.8</td>\n",
       "    </tr>\n",
       "    <tr>\n",
       "      <th>...</th>\n",
       "      <td>...</td>\n",
       "      <td>...</td>\n",
       "    </tr>\n",
       "    <tr>\n",
       "      <th>188376</th>\n",
       "      <td>Organic Pineapple Cottage Cheese</td>\n",
       "      <td>12.6</td>\n",
       "    </tr>\n",
       "    <tr>\n",
       "      <th>22369436</th>\n",
       "      <td>Sea Salt Small Curd Cottage Cheese</td>\n",
       "      <td>13.5</td>\n",
       "    </tr>\n",
       "    <tr>\n",
       "      <th>40368</th>\n",
       "      <td>Organic Low Fat Cottage Cheese</td>\n",
       "      <td>13.7</td>\n",
       "    </tr>\n",
       "    <tr>\n",
       "      <th>5787433</th>\n",
       "      <td>Organic Cottage Cheese Kalamata Olive</td>\n",
       "      <td>15.0</td>\n",
       "    </tr>\n",
       "    <tr>\n",
       "      <th>17783689</th>\n",
       "      <td>Lowfat 2% Milkfat Cottage Cheese</td>\n",
       "      <td>14900.0</td>\n",
       "    </tr>\n",
       "  </tbody>\n",
       "</table>\n",
       "<p>71 rows × 2 columns</p>\n",
       "</div>"
      ],
      "text/plain": [
       "                                       product_name   prices\n",
       "17797984          Cottage Cheese 4% Milkfat Minimum      1.1\n",
       "31307471                  Small Curd Cottage Cheese      1.3\n",
       "22571376               Small Curd Cottage Cheese 4%      1.3\n",
       "17116924                       Cottage Cheese 22 Oz      1.6\n",
       "8388645   4% Milkfat Min. Small Curd Cottage Cheese      1.8\n",
       "...                                             ...      ...\n",
       "188376             Organic Pineapple Cottage Cheese     12.6\n",
       "22369436         Sea Salt Small Curd Cottage Cheese     13.5\n",
       "40368                Organic Low Fat Cottage Cheese     13.7\n",
       "5787433       Organic Cottage Cheese Kalamata Olive     15.0\n",
       "17783689           Lowfat 2% Milkfat Cottage Cheese  14900.0\n",
       "\n",
       "[71 rows x 2 columns]"
      ]
     },
     "execution_count": 52,
     "metadata": {},
     "output_type": "execute_result"
    }
   ],
   "source": [
    "cottage_cheese = df_ords_prods_merge[df_ords_prods_merge['product_name'].str.contains('Cottage Cheese', case=False, na=False)]\n",
    "cottage_cheese[['product_name', 'prices']].sort_values(by='prices').drop_duplicates()"
   ]
  },
  {
   "cell_type": "code",
   "execution_count": 53,
   "id": "1fd28acb-89f9-405b-b440-5c6a4009086c",
   "metadata": {},
   "outputs": [],
   "source": [
    "df_ords_prods_merge.loc[df_ords_prods_merge['prices'] == 14900.0, 'prices'] = 1.1"
   ]
  },
  {
   "cell_type": "code",
   "execution_count": 54,
   "id": "f68dbb8d-3c79-4eb7-b598-f05b2ffa5c4e",
   "metadata": {},
   "outputs": [
    {
     "data": {
      "text/html": [
       "<div>\n",
       "<style scoped>\n",
       "    .dataframe tbody tr th:only-of-type {\n",
       "        vertical-align: middle;\n",
       "    }\n",
       "\n",
       "    .dataframe tbody tr th {\n",
       "        vertical-align: top;\n",
       "    }\n",
       "\n",
       "    .dataframe thead th {\n",
       "        text-align: right;\n",
       "    }\n",
       "</style>\n",
       "<table border=\"1\" class=\"dataframe\">\n",
       "  <thead>\n",
       "    <tr style=\"text-align: right;\">\n",
       "      <th></th>\n",
       "      <th>order_id</th>\n",
       "      <th>user_id</th>\n",
       "      <th>order_number</th>\n",
       "      <th>orders_day_of_week</th>\n",
       "      <th>order_hour_of_day</th>\n",
       "      <th>days_between_orders</th>\n",
       "      <th>new_customer</th>\n",
       "      <th>product_id</th>\n",
       "      <th>add_to_cart_order</th>\n",
       "      <th>reordered</th>\n",
       "      <th>product_name</th>\n",
       "      <th>aisle_id</th>\n",
       "      <th>department_id</th>\n",
       "      <th>prices</th>\n",
       "      <th>_merge</th>\n",
       "      <th>price_range</th>\n",
       "    </tr>\n",
       "  </thead>\n",
       "  <tbody>\n",
       "    <tr>\n",
       "      <th>1576</th>\n",
       "      <td>912404</td>\n",
       "      <td>17</td>\n",
       "      <td>12</td>\n",
       "      <td>2</td>\n",
       "      <td>14</td>\n",
       "      <td>5.0</td>\n",
       "      <td>False</td>\n",
       "      <td>21553</td>\n",
       "      <td>5</td>\n",
       "      <td>0</td>\n",
       "      <td>Lowfat 2% Milkfat Cottage Cheese</td>\n",
       "      <td>108</td>\n",
       "      <td>16</td>\n",
       "      <td>1.1</td>\n",
       "      <td>both</td>\n",
       "      <td>High range</td>\n",
       "    </tr>\n",
       "    <tr>\n",
       "      <th>1638</th>\n",
       "      <td>603376</td>\n",
       "      <td>17</td>\n",
       "      <td>22</td>\n",
       "      <td>6</td>\n",
       "      <td>16</td>\n",
       "      <td>4.0</td>\n",
       "      <td>False</td>\n",
       "      <td>21553</td>\n",
       "      <td>3</td>\n",
       "      <td>1</td>\n",
       "      <td>Lowfat 2% Milkfat Cottage Cheese</td>\n",
       "      <td>108</td>\n",
       "      <td>16</td>\n",
       "      <td>1.1</td>\n",
       "      <td>both</td>\n",
       "      <td>High range</td>\n",
       "    </tr>\n",
       "    <tr>\n",
       "      <th>16522</th>\n",
       "      <td>3264360</td>\n",
       "      <td>135</td>\n",
       "      <td>2</td>\n",
       "      <td>2</td>\n",
       "      <td>21</td>\n",
       "      <td>13.0</td>\n",
       "      <td>False</td>\n",
       "      <td>21553</td>\n",
       "      <td>6</td>\n",
       "      <td>0</td>\n",
       "      <td>Lowfat 2% Milkfat Cottage Cheese</td>\n",
       "      <td>108</td>\n",
       "      <td>16</td>\n",
       "      <td>1.1</td>\n",
       "      <td>both</td>\n",
       "      <td>High range</td>\n",
       "    </tr>\n",
       "    <tr>\n",
       "      <th>16528</th>\n",
       "      <td>892534</td>\n",
       "      <td>135</td>\n",
       "      <td>3</td>\n",
       "      <td>0</td>\n",
       "      <td>8</td>\n",
       "      <td>12.0</td>\n",
       "      <td>False</td>\n",
       "      <td>21553</td>\n",
       "      <td>3</td>\n",
       "      <td>1</td>\n",
       "      <td>Lowfat 2% Milkfat Cottage Cheese</td>\n",
       "      <td>108</td>\n",
       "      <td>16</td>\n",
       "      <td>1.1</td>\n",
       "      <td>both</td>\n",
       "      <td>High range</td>\n",
       "    </tr>\n",
       "    <tr>\n",
       "      <th>53672</th>\n",
       "      <td>229704</td>\n",
       "      <td>342</td>\n",
       "      <td>8</td>\n",
       "      <td>1</td>\n",
       "      <td>19</td>\n",
       "      <td>30.0</td>\n",
       "      <td>False</td>\n",
       "      <td>21553</td>\n",
       "      <td>9</td>\n",
       "      <td>0</td>\n",
       "      <td>Lowfat 2% Milkfat Cottage Cheese</td>\n",
       "      <td>108</td>\n",
       "      <td>16</td>\n",
       "      <td>1.1</td>\n",
       "      <td>both</td>\n",
       "      <td>High range</td>\n",
       "    </tr>\n",
       "  </tbody>\n",
       "</table>\n",
       "</div>"
      ],
      "text/plain": [
       "       order_id  user_id  order_number  orders_day_of_week  order_hour_of_day  \\\n",
       "1576     912404       17            12                   2                 14   \n",
       "1638     603376       17            22                   6                 16   \n",
       "16522   3264360      135             2                   2                 21   \n",
       "16528    892534      135             3                   0                  8   \n",
       "53672    229704      342             8                   1                 19   \n",
       "\n",
       "       days_between_orders  new_customer  product_id  add_to_cart_order  \\\n",
       "1576                   5.0         False       21553                  5   \n",
       "1638                   4.0         False       21553                  3   \n",
       "16522                 13.0         False       21553                  6   \n",
       "16528                 12.0         False       21553                  3   \n",
       "53672                 30.0         False       21553                  9   \n",
       "\n",
       "       reordered                      product_name  aisle_id  department_id  \\\n",
       "1576           0  Lowfat 2% Milkfat Cottage Cheese       108             16   \n",
       "1638           1  Lowfat 2% Milkfat Cottage Cheese       108             16   \n",
       "16522          0  Lowfat 2% Milkfat Cottage Cheese       108             16   \n",
       "16528          1  Lowfat 2% Milkfat Cottage Cheese       108             16   \n",
       "53672          0  Lowfat 2% Milkfat Cottage Cheese       108             16   \n",
       "\n",
       "       prices _merge price_range  \n",
       "1576      1.1   both  High range  \n",
       "1638      1.1   both  High range  \n",
       "16522     1.1   both  High range  \n",
       "16528     1.1   both  High range  \n",
       "53672     1.1   both  High range  "
      ]
     },
     "execution_count": 54,
     "metadata": {},
     "output_type": "execute_result"
    }
   ],
   "source": [
    "(df_ords_prods_merge['prices'] == 14900.0).sum()  # should return 0\n",
    "df_ords_prods_merge[df_ords_prods_merge['prices'] == 1.1].head()"
   ]
  },
  {
   "cell_type": "code",
   "execution_count": 56,
   "id": "cd83a41f-da05-468a-ba13-27fb3dc36300",
   "metadata": {},
   "outputs": [
    {
     "data": {
      "text/plain": [
       "price_range\n",
       "Mid-range product    21861558\n",
       "Low-range product    10130750\n",
       "High range             412551\n",
       "Name: count, dtype: int64"
      ]
     },
     "execution_count": 56,
     "metadata": {},
     "output_type": "execute_result"
    }
   ],
   "source": [
    "df_ords_prods_merge['price_range'] = df_ords_prods_merge.apply(price_label, axis=1)\n",
    "df_ords_prods_merge['price_range'].value_counts(dropna=False)"
   ]
  },
  {
   "cell_type": "code",
   "execution_count": 57,
   "id": "83d20f86-b5cc-4268-a094-7ce20df59d1a",
   "metadata": {},
   "outputs": [
    {
     "name": "stdout",
     "output_type": "stream",
     "text": [
      "<class 'pandas.core.frame.DataFrame'>\n",
      "RangeIndex: 32404859 entries, 0 to 32404858\n",
      "Data columns (total 16 columns):\n",
      " #   Column               Dtype   \n",
      "---  ------               -----   \n",
      " 0   order_id             int32   \n",
      " 1   user_id              int32   \n",
      " 2   order_number         int8    \n",
      " 3   orders_day_of_week   int8    \n",
      " 4   order_hour_of_day    int8    \n",
      " 5   days_between_orders  float32 \n",
      " 6   new_customer         bool    \n",
      " 7   product_id           int32   \n",
      " 8   add_to_cart_order    int32   \n",
      " 9   reordered            int8    \n",
      " 10  product_name         object  \n",
      " 11  aisle_id             int8    \n",
      " 12  department_id        int8    \n",
      " 13  prices               float64 \n",
      " 14  _merge               category\n",
      " 15  price_range          object  \n",
      "dtypes: bool(1), category(1), float32(1), float64(1), int32(4), int8(6), object(2)\n",
      "memory usage: 1.6+ GB\n"
     ]
    }
   ],
   "source": [
    "df_ords_prods_merge.info()"
   ]
  },
  {
   "cell_type": "markdown",
   "id": "74095d5f-3086-454f-87c8-5b6843eb6938",
   "metadata": {},
   "source": [
    "# 3. Creating busiest_day column with FOR loops"
   ]
  },
  {
   "cell_type": "code",
   "execution_count": 22,
   "id": "8d8e4972-28d6-48b9-af65-5873accfdbc1",
   "metadata": {},
   "outputs": [],
   "source": [
    "result = []\n",
    "\n",
    "for value in df[\"orders_day_of_week\"]:\n",
    "  if value == 0:\n",
    "    result.append(\"Busiest day\")\n",
    "  elif value == 4:\n",
    "    result.append(\"Least busy\")\n",
    "  else:\n",
    "    result.append(\"Regularly busy\")"
   ]
  },
  {
   "cell_type": "code",
   "execution_count": null,
   "id": "8687e5b9-1f90-4be3-8fb2-740dd11b7dcc",
   "metadata": {},
   "outputs": [],
   "source": [
    "result"
   ]
  }
 ],
 "metadata": {
  "kernelspec": {
   "display_name": "Python [conda env:base] *",
   "language": "python",
   "name": "conda-base-py"
  },
  "language_info": {
   "codemirror_mode": {
    "name": "ipython",
    "version": 3
   },
   "file_extension": ".py",
   "mimetype": "text/x-python",
   "name": "python",
   "nbconvert_exporter": "python",
   "pygments_lexer": "ipython3",
   "version": "3.12.7"
  }
 },
 "nbformat": 4,
 "nbformat_minor": 5
}
